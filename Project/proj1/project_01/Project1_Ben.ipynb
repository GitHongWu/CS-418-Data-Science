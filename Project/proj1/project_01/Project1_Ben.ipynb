{
 "cells": [
  {
   "cell_type": "code",
   "execution_count": 1,
   "metadata": {},
   "outputs": [],
   "source": [
    "import pandas as pd\n",
    "import numpy as np\n",
    "from sklearn.model_selection import train_test_split\n",
    "from sklearn.preprocessing import StandardScaler\n",
    "from sklearn import linear_model\n",
    "import matplotlib.pyplot as plt\n",
    "import seaborn as sns\n",
    "import scipy.stats as st"
   ]
  },
  {
   "cell_type": "code",
   "execution_count": 2,
   "metadata": {},
   "outputs": [],
   "source": [
    "# Load dataset\n",
    "data_a= pd.read_csv('election_train.csv')\n",
    "data_b = pd.read_csv('demographics_train.csv')"
   ]
  },
  {
   "cell_type": "markdown",
   "metadata": {},
   "source": [
    "#### 1. Reshape dataset election_train from long format to wide format. Hint: the reshaped dataset should contain 1205 rows and 6 columns"
   ]
  },
  {
   "cell_type": "code",
   "execution_count": 3,
   "metadata": {},
   "outputs": [
    {
     "data": {
      "text/html": [
       "<div>\n",
       "<style scoped>\n",
       "    .dataframe tbody tr th:only-of-type {\n",
       "        vertical-align: middle;\n",
       "    }\n",
       "\n",
       "    .dataframe tbody tr th {\n",
       "        vertical-align: top;\n",
       "    }\n",
       "\n",
       "    .dataframe thead th {\n",
       "        text-align: right;\n",
       "    }\n",
       "</style>\n",
       "<table border=\"1\" class=\"dataframe\">\n",
       "  <thead>\n",
       "    <tr style=\"text-align: right;\">\n",
       "      <th>Party</th>\n",
       "      <th>Year</th>\n",
       "      <th>State</th>\n",
       "      <th>County</th>\n",
       "      <th>Office</th>\n",
       "      <th>Democratic</th>\n",
       "      <th>Republican</th>\n",
       "    </tr>\n",
       "  </thead>\n",
       "  <tbody>\n",
       "    <tr>\n",
       "      <th>0</th>\n",
       "      <td>2018</td>\n",
       "      <td>AZ</td>\n",
       "      <td>Apache County</td>\n",
       "      <td>US Senator</td>\n",
       "      <td>16298.0</td>\n",
       "      <td>7810.0</td>\n",
       "    </tr>\n",
       "    <tr>\n",
       "      <th>1</th>\n",
       "      <td>2018</td>\n",
       "      <td>AZ</td>\n",
       "      <td>Cochise County</td>\n",
       "      <td>US Senator</td>\n",
       "      <td>17383.0</td>\n",
       "      <td>26929.0</td>\n",
       "    </tr>\n",
       "    <tr>\n",
       "      <th>2</th>\n",
       "      <td>2018</td>\n",
       "      <td>AZ</td>\n",
       "      <td>Coconino County</td>\n",
       "      <td>US Senator</td>\n",
       "      <td>34240.0</td>\n",
       "      <td>19249.0</td>\n",
       "    </tr>\n",
       "    <tr>\n",
       "      <th>3</th>\n",
       "      <td>2018</td>\n",
       "      <td>AZ</td>\n",
       "      <td>Gila County</td>\n",
       "      <td>US Senator</td>\n",
       "      <td>7643.0</td>\n",
       "      <td>12180.0</td>\n",
       "    </tr>\n",
       "    <tr>\n",
       "      <th>4</th>\n",
       "      <td>2018</td>\n",
       "      <td>AZ</td>\n",
       "      <td>Graham County</td>\n",
       "      <td>US Senator</td>\n",
       "      <td>3368.0</td>\n",
       "      <td>6870.0</td>\n",
       "    </tr>\n",
       "    <tr>\n",
       "      <th>...</th>\n",
       "      <td>...</td>\n",
       "      <td>...</td>\n",
       "      <td>...</td>\n",
       "      <td>...</td>\n",
       "      <td>...</td>\n",
       "      <td>...</td>\n",
       "    </tr>\n",
       "    <tr>\n",
       "      <th>1200</th>\n",
       "      <td>2018</td>\n",
       "      <td>WY</td>\n",
       "      <td>Platte County</td>\n",
       "      <td>US Senator</td>\n",
       "      <td>801.0</td>\n",
       "      <td>2850.0</td>\n",
       "    </tr>\n",
       "    <tr>\n",
       "      <th>1201</th>\n",
       "      <td>2018</td>\n",
       "      <td>WY</td>\n",
       "      <td>Sublette County</td>\n",
       "      <td>US Senator</td>\n",
       "      <td>668.0</td>\n",
       "      <td>2653.0</td>\n",
       "    </tr>\n",
       "    <tr>\n",
       "      <th>1202</th>\n",
       "      <td>2018</td>\n",
       "      <td>WY</td>\n",
       "      <td>Sweetwater County</td>\n",
       "      <td>US Senator</td>\n",
       "      <td>3943.0</td>\n",
       "      <td>8577.0</td>\n",
       "    </tr>\n",
       "    <tr>\n",
       "      <th>1203</th>\n",
       "      <td>2018</td>\n",
       "      <td>WY</td>\n",
       "      <td>Uinta County</td>\n",
       "      <td>US Senator</td>\n",
       "      <td>1371.0</td>\n",
       "      <td>4713.0</td>\n",
       "    </tr>\n",
       "    <tr>\n",
       "      <th>1204</th>\n",
       "      <td>2018</td>\n",
       "      <td>WY</td>\n",
       "      <td>Washakie County</td>\n",
       "      <td>US Senator</td>\n",
       "      <td>588.0</td>\n",
       "      <td>2423.0</td>\n",
       "    </tr>\n",
       "  </tbody>\n",
       "</table>\n",
       "<p>1205 rows × 6 columns</p>\n",
       "</div>"
      ],
      "text/plain": [
       "Party  Year State             County      Office  Democratic  Republican\n",
       "0      2018    AZ      Apache County  US Senator     16298.0      7810.0\n",
       "1      2018    AZ     Cochise County  US Senator     17383.0     26929.0\n",
       "2      2018    AZ    Coconino County  US Senator     34240.0     19249.0\n",
       "3      2018    AZ        Gila County  US Senator      7643.0     12180.0\n",
       "4      2018    AZ      Graham County  US Senator      3368.0      6870.0\n",
       "...     ...   ...                ...         ...         ...         ...\n",
       "1200   2018    WY      Platte County  US Senator       801.0      2850.0\n",
       "1201   2018    WY    Sublette County  US Senator       668.0      2653.0\n",
       "1202   2018    WY  Sweetwater County  US Senator      3943.0      8577.0\n",
       "1203   2018    WY       Uinta County  US Senator      1371.0      4713.0\n",
       "1204   2018    WY    Washakie County  US Senator       588.0      2423.0\n",
       "\n",
       "[1205 rows x 6 columns]"
      ]
     },
     "execution_count": 3,
     "metadata": {},
     "output_type": "execute_result"
    }
   ],
   "source": [
    "data_a_tidy = data_a.pivot_table(index = ['Year','State','County','Office'], columns = \"Party\", values = \"Votes\").reset_index()\n",
    "data_a_tidy"
   ]
  },
  {
   "cell_type": "markdown",
   "metadata": {},
   "source": [
    "####  2. Merge reshaped dataset election_train with dataset demographics_train. Make sure that you address all inconsistencies in the names of the states and the counties before merging. Hint: the merged dataset should contain 1200 rows."
   ]
  },
  {
   "cell_type": "code",
   "execution_count": 4,
   "metadata": {},
   "outputs": [],
   "source": [
    "data_a_tidy['County'] = data_a_tidy['County'].str.replace('County','').str.lower().str.strip()"
   ]
  },
  {
   "cell_type": "code",
   "execution_count": 5,
   "metadata": {},
   "outputs": [],
   "source": [
    "us_state_abbrev = {\n",
    "    'Alabama': 'AL',\n",
    "    'Alaska': 'AK',\n",
    "    'American Samoa': 'AS',\n",
    "    'Arizona': 'AZ',\n",
    "    'Arkansas': 'AR',\n",
    "    'California': 'CA',\n",
    "    'Colorado': 'CO',\n",
    "    'Connecticut': 'CT',\n",
    "    'Delaware': 'DE',\n",
    "    'District of Columbia': 'DC',\n",
    "    'Florida': 'FL',\n",
    "    'Georgia': 'GA',\n",
    "    'Guam': 'GU',\n",
    "    'Hawaii': 'HI',\n",
    "    'Idaho': 'ID',\n",
    "    'Illinois': 'IL',\n",
    "    'Indiana': 'IN',\n",
    "    'Iowa': 'IA',\n",
    "    'Kansas': 'KS',\n",
    "    'Kentucky': 'KY',\n",
    "    'Louisiana': 'LA',\n",
    "    'Maine': 'ME',\n",
    "    'Maryland': 'MD',\n",
    "    'Massachusetts': 'MA',\n",
    "    'Michigan': 'MI',\n",
    "    'Minnesota': 'MN',\n",
    "    'Mississippi': 'MS',\n",
    "    'Missouri': 'MO',\n",
    "    'Montana': 'MT',\n",
    "    'Nebraska': 'NE',\n",
    "    'Nevada': 'NV',\n",
    "    'New Hampshire': 'NH',\n",
    "    'New Jersey': 'NJ',\n",
    "    'New Mexico': 'NM',\n",
    "    'New York': 'NY',\n",
    "    'North Carolina': 'NC',\n",
    "    'North Dakota': 'ND',\n",
    "    'Northern Mariana Islands':'MP',\n",
    "    'Ohio': 'OH',\n",
    "    'Oklahoma': 'OK',\n",
    "    'Oregon': 'OR',\n",
    "    'Pennsylvania': 'PA',\n",
    "    'Puerto Rico': 'PR',\n",
    "    'Rhode Island': 'RI',\n",
    "    'South Carolina': 'SC',\n",
    "    'South Dakota': 'SD',\n",
    "    'Tennessee': 'TN',\n",
    "    'Texas': 'TX',\n",
    "    'Utah': 'UT',\n",
    "    'Vermont': 'VT',\n",
    "    'Virgin Islands': 'VI',\n",
    "    'Virginia': 'VA',\n",
    "    'Washington': 'WA',\n",
    "    'West Virginia': 'WV',\n",
    "    'Wisconsin': 'WI',\n",
    "    'Wyoming': 'WY'\n",
    "}"
   ]
  },
  {
   "cell_type": "code",
   "execution_count": 6,
   "metadata": {},
   "outputs": [],
   "source": [
    "data_b['State'] = data_b['State'].map(us_state_abbrev)\n",
    "data_b['County'] = data_b['County'].str.lower().str.strip()"
   ]
  },
  {
   "cell_type": "code",
   "execution_count": 7,
   "metadata": {},
   "outputs": [],
   "source": [
    "merge_data = pd.merge(data_a_tidy, data_b, how = \"inner\", on = ['State','County'])"
   ]
  },
  {
   "cell_type": "code",
   "execution_count": 8,
   "metadata": {},
   "outputs": [
    {
     "data": {
      "text/html": [
       "<div>\n",
       "<style scoped>\n",
       "    .dataframe tbody tr th:only-of-type {\n",
       "        vertical-align: middle;\n",
       "    }\n",
       "\n",
       "    .dataframe tbody tr th {\n",
       "        vertical-align: top;\n",
       "    }\n",
       "\n",
       "    .dataframe thead th {\n",
       "        text-align: right;\n",
       "    }\n",
       "</style>\n",
       "<table border=\"1\" class=\"dataframe\">\n",
       "  <thead>\n",
       "    <tr style=\"text-align: right;\">\n",
       "      <th></th>\n",
       "      <th>Year</th>\n",
       "      <th>State</th>\n",
       "      <th>County</th>\n",
       "      <th>Office</th>\n",
       "      <th>Democratic</th>\n",
       "      <th>Republican</th>\n",
       "      <th>FIPS</th>\n",
       "      <th>Total Population</th>\n",
       "      <th>Citizen Voting-Age Population</th>\n",
       "      <th>Percent White, not Hispanic or Latino</th>\n",
       "      <th>...</th>\n",
       "      <th>Percent Hispanic or Latino</th>\n",
       "      <th>Percent Foreign Born</th>\n",
       "      <th>Percent Female</th>\n",
       "      <th>Percent Age 29 and Under</th>\n",
       "      <th>Percent Age 65 and Older</th>\n",
       "      <th>Median Household Income</th>\n",
       "      <th>Percent Unemployed</th>\n",
       "      <th>Percent Less than High School Degree</th>\n",
       "      <th>Percent Less than Bachelor's Degree</th>\n",
       "      <th>Percent Rural</th>\n",
       "    </tr>\n",
       "  </thead>\n",
       "  <tbody>\n",
       "    <tr>\n",
       "      <th>0</th>\n",
       "      <td>2018</td>\n",
       "      <td>AZ</td>\n",
       "      <td>apache</td>\n",
       "      <td>US Senator</td>\n",
       "      <td>16298.0</td>\n",
       "      <td>7810.0</td>\n",
       "      <td>4001</td>\n",
       "      <td>72346</td>\n",
       "      <td>0</td>\n",
       "      <td>18.571863</td>\n",
       "      <td>...</td>\n",
       "      <td>5.947806</td>\n",
       "      <td>1.719515</td>\n",
       "      <td>50.598513</td>\n",
       "      <td>45.854643</td>\n",
       "      <td>13.322091</td>\n",
       "      <td>32460</td>\n",
       "      <td>15.807433</td>\n",
       "      <td>21.758252</td>\n",
       "      <td>88.941063</td>\n",
       "      <td>74.061076</td>\n",
       "    </tr>\n",
       "    <tr>\n",
       "      <th>1</th>\n",
       "      <td>2018</td>\n",
       "      <td>AZ</td>\n",
       "      <td>cochise</td>\n",
       "      <td>US Senator</td>\n",
       "      <td>17383.0</td>\n",
       "      <td>26929.0</td>\n",
       "      <td>4003</td>\n",
       "      <td>128177</td>\n",
       "      <td>92915</td>\n",
       "      <td>56.299492</td>\n",
       "      <td>...</td>\n",
       "      <td>34.403208</td>\n",
       "      <td>11.458374</td>\n",
       "      <td>49.069646</td>\n",
       "      <td>37.902276</td>\n",
       "      <td>19.756275</td>\n",
       "      <td>45383</td>\n",
       "      <td>8.567108</td>\n",
       "      <td>13.409171</td>\n",
       "      <td>76.837055</td>\n",
       "      <td>36.301067</td>\n",
       "    </tr>\n",
       "    <tr>\n",
       "      <th>2</th>\n",
       "      <td>2018</td>\n",
       "      <td>AZ</td>\n",
       "      <td>coconino</td>\n",
       "      <td>US Senator</td>\n",
       "      <td>34240.0</td>\n",
       "      <td>19249.0</td>\n",
       "      <td>4005</td>\n",
       "      <td>138064</td>\n",
       "      <td>104265</td>\n",
       "      <td>54.619597</td>\n",
       "      <td>...</td>\n",
       "      <td>13.711033</td>\n",
       "      <td>4.825298</td>\n",
       "      <td>50.581614</td>\n",
       "      <td>48.946141</td>\n",
       "      <td>10.873943</td>\n",
       "      <td>51106</td>\n",
       "      <td>8.238305</td>\n",
       "      <td>11.085381</td>\n",
       "      <td>65.791439</td>\n",
       "      <td>31.466066</td>\n",
       "    </tr>\n",
       "    <tr>\n",
       "      <th>3</th>\n",
       "      <td>2018</td>\n",
       "      <td>AZ</td>\n",
       "      <td>gila</td>\n",
       "      <td>US Senator</td>\n",
       "      <td>7643.0</td>\n",
       "      <td>12180.0</td>\n",
       "      <td>4007</td>\n",
       "      <td>53179</td>\n",
       "      <td>0</td>\n",
       "      <td>63.222325</td>\n",
       "      <td>...</td>\n",
       "      <td>18.548675</td>\n",
       "      <td>4.249798</td>\n",
       "      <td>50.296170</td>\n",
       "      <td>32.238290</td>\n",
       "      <td>26.397638</td>\n",
       "      <td>40593</td>\n",
       "      <td>12.129932</td>\n",
       "      <td>15.729958</td>\n",
       "      <td>82.262624</td>\n",
       "      <td>41.062000</td>\n",
       "    </tr>\n",
       "    <tr>\n",
       "      <th>4</th>\n",
       "      <td>2018</td>\n",
       "      <td>AZ</td>\n",
       "      <td>graham</td>\n",
       "      <td>US Senator</td>\n",
       "      <td>3368.0</td>\n",
       "      <td>6870.0</td>\n",
       "      <td>4009</td>\n",
       "      <td>37529</td>\n",
       "      <td>0</td>\n",
       "      <td>51.461536</td>\n",
       "      <td>...</td>\n",
       "      <td>32.097844</td>\n",
       "      <td>4.385942</td>\n",
       "      <td>46.313518</td>\n",
       "      <td>46.393456</td>\n",
       "      <td>12.315809</td>\n",
       "      <td>47422</td>\n",
       "      <td>14.424104</td>\n",
       "      <td>14.580797</td>\n",
       "      <td>86.675944</td>\n",
       "      <td>46.437399</td>\n",
       "    </tr>\n",
       "    <tr>\n",
       "      <th>...</th>\n",
       "      <td>...</td>\n",
       "      <td>...</td>\n",
       "      <td>...</td>\n",
       "      <td>...</td>\n",
       "      <td>...</td>\n",
       "      <td>...</td>\n",
       "      <td>...</td>\n",
       "      <td>...</td>\n",
       "      <td>...</td>\n",
       "      <td>...</td>\n",
       "      <td>...</td>\n",
       "      <td>...</td>\n",
       "      <td>...</td>\n",
       "      <td>...</td>\n",
       "      <td>...</td>\n",
       "      <td>...</td>\n",
       "      <td>...</td>\n",
       "      <td>...</td>\n",
       "      <td>...</td>\n",
       "      <td>...</td>\n",
       "      <td>...</td>\n",
       "    </tr>\n",
       "    <tr>\n",
       "      <th>1195</th>\n",
       "      <td>2018</td>\n",
       "      <td>WY</td>\n",
       "      <td>platte</td>\n",
       "      <td>US Senator</td>\n",
       "      <td>801.0</td>\n",
       "      <td>2850.0</td>\n",
       "      <td>56031</td>\n",
       "      <td>8740</td>\n",
       "      <td>6830</td>\n",
       "      <td>89.359268</td>\n",
       "      <td>...</td>\n",
       "      <td>7.814645</td>\n",
       "      <td>2.780320</td>\n",
       "      <td>47.711670</td>\n",
       "      <td>32.700229</td>\n",
       "      <td>22.013730</td>\n",
       "      <td>41051</td>\n",
       "      <td>3.901047</td>\n",
       "      <td>9.675889</td>\n",
       "      <td>80.300395</td>\n",
       "      <td>58.647744</td>\n",
       "    </tr>\n",
       "    <tr>\n",
       "      <th>1196</th>\n",
       "      <td>2018</td>\n",
       "      <td>WY</td>\n",
       "      <td>sublette</td>\n",
       "      <td>US Senator</td>\n",
       "      <td>668.0</td>\n",
       "      <td>2653.0</td>\n",
       "      <td>56035</td>\n",
       "      <td>10032</td>\n",
       "      <td>0</td>\n",
       "      <td>91.646730</td>\n",
       "      <td>...</td>\n",
       "      <td>7.814992</td>\n",
       "      <td>2.053429</td>\n",
       "      <td>46.949761</td>\n",
       "      <td>36.393541</td>\n",
       "      <td>13.337321</td>\n",
       "      <td>76004</td>\n",
       "      <td>2.786971</td>\n",
       "      <td>4.658830</td>\n",
       "      <td>75.645069</td>\n",
       "      <td>100.000000</td>\n",
       "    </tr>\n",
       "    <tr>\n",
       "      <th>1197</th>\n",
       "      <td>2018</td>\n",
       "      <td>WY</td>\n",
       "      <td>sweetwater</td>\n",
       "      <td>US Senator</td>\n",
       "      <td>3943.0</td>\n",
       "      <td>8577.0</td>\n",
       "      <td>56037</td>\n",
       "      <td>44812</td>\n",
       "      <td>30565</td>\n",
       "      <td>79.815674</td>\n",
       "      <td>...</td>\n",
       "      <td>15.859591</td>\n",
       "      <td>5.509685</td>\n",
       "      <td>47.824244</td>\n",
       "      <td>44.153352</td>\n",
       "      <td>9.417120</td>\n",
       "      <td>68233</td>\n",
       "      <td>5.072255</td>\n",
       "      <td>9.314606</td>\n",
       "      <td>78.628507</td>\n",
       "      <td>10.916313</td>\n",
       "    </tr>\n",
       "    <tr>\n",
       "      <th>1198</th>\n",
       "      <td>2018</td>\n",
       "      <td>WY</td>\n",
       "      <td>uinta</td>\n",
       "      <td>US Senator</td>\n",
       "      <td>1371.0</td>\n",
       "      <td>4713.0</td>\n",
       "      <td>56041</td>\n",
       "      <td>20893</td>\n",
       "      <td>14355</td>\n",
       "      <td>87.718375</td>\n",
       "      <td>...</td>\n",
       "      <td>8.959939</td>\n",
       "      <td>3.986981</td>\n",
       "      <td>49.327526</td>\n",
       "      <td>43.205858</td>\n",
       "      <td>10.678218</td>\n",
       "      <td>53323</td>\n",
       "      <td>6.390755</td>\n",
       "      <td>10.361224</td>\n",
       "      <td>81.793082</td>\n",
       "      <td>43.095937</td>\n",
       "    </tr>\n",
       "    <tr>\n",
       "      <th>1199</th>\n",
       "      <td>2018</td>\n",
       "      <td>WY</td>\n",
       "      <td>washakie</td>\n",
       "      <td>US Senator</td>\n",
       "      <td>588.0</td>\n",
       "      <td>2423.0</td>\n",
       "      <td>56043</td>\n",
       "      <td>8351</td>\n",
       "      <td>0</td>\n",
       "      <td>82.397318</td>\n",
       "      <td>...</td>\n",
       "      <td>13.962400</td>\n",
       "      <td>3.783978</td>\n",
       "      <td>51.359119</td>\n",
       "      <td>34.774279</td>\n",
       "      <td>19.650341</td>\n",
       "      <td>46212</td>\n",
       "      <td>7.441860</td>\n",
       "      <td>12.577108</td>\n",
       "      <td>78.923920</td>\n",
       "      <td>35.954529</td>\n",
       "    </tr>\n",
       "  </tbody>\n",
       "</table>\n",
       "<p>1200 rows × 21 columns</p>\n",
       "</div>"
      ],
      "text/plain": [
       "      Year State      County      Office  Democratic  Republican   FIPS  \\\n",
       "0     2018    AZ      apache  US Senator     16298.0      7810.0   4001   \n",
       "1     2018    AZ     cochise  US Senator     17383.0     26929.0   4003   \n",
       "2     2018    AZ    coconino  US Senator     34240.0     19249.0   4005   \n",
       "3     2018    AZ        gila  US Senator      7643.0     12180.0   4007   \n",
       "4     2018    AZ      graham  US Senator      3368.0      6870.0   4009   \n",
       "...    ...   ...         ...         ...         ...         ...    ...   \n",
       "1195  2018    WY      platte  US Senator       801.0      2850.0  56031   \n",
       "1196  2018    WY    sublette  US Senator       668.0      2653.0  56035   \n",
       "1197  2018    WY  sweetwater  US Senator      3943.0      8577.0  56037   \n",
       "1198  2018    WY       uinta  US Senator      1371.0      4713.0  56041   \n",
       "1199  2018    WY    washakie  US Senator       588.0      2423.0  56043   \n",
       "\n",
       "      Total Population  Citizen Voting-Age Population  \\\n",
       "0                72346                              0   \n",
       "1               128177                          92915   \n",
       "2               138064                         104265   \n",
       "3                53179                              0   \n",
       "4                37529                              0   \n",
       "...                ...                            ...   \n",
       "1195              8740                           6830   \n",
       "1196             10032                              0   \n",
       "1197             44812                          30565   \n",
       "1198             20893                          14355   \n",
       "1199              8351                              0   \n",
       "\n",
       "      Percent White, not Hispanic or Latino  ...  Percent Hispanic or Latino  \\\n",
       "0                                 18.571863  ...                    5.947806   \n",
       "1                                 56.299492  ...                   34.403208   \n",
       "2                                 54.619597  ...                   13.711033   \n",
       "3                                 63.222325  ...                   18.548675   \n",
       "4                                 51.461536  ...                   32.097844   \n",
       "...                                     ...  ...                         ...   \n",
       "1195                              89.359268  ...                    7.814645   \n",
       "1196                              91.646730  ...                    7.814992   \n",
       "1197                              79.815674  ...                   15.859591   \n",
       "1198                              87.718375  ...                    8.959939   \n",
       "1199                              82.397318  ...                   13.962400   \n",
       "\n",
       "      Percent Foreign Born  Percent Female  Percent Age 29 and Under  \\\n",
       "0                 1.719515       50.598513                 45.854643   \n",
       "1                11.458374       49.069646                 37.902276   \n",
       "2                 4.825298       50.581614                 48.946141   \n",
       "3                 4.249798       50.296170                 32.238290   \n",
       "4                 4.385942       46.313518                 46.393456   \n",
       "...                    ...             ...                       ...   \n",
       "1195              2.780320       47.711670                 32.700229   \n",
       "1196              2.053429       46.949761                 36.393541   \n",
       "1197              5.509685       47.824244                 44.153352   \n",
       "1198              3.986981       49.327526                 43.205858   \n",
       "1199              3.783978       51.359119                 34.774279   \n",
       "\n",
       "      Percent Age 65 and Older  Median Household Income  Percent Unemployed  \\\n",
       "0                    13.322091                    32460           15.807433   \n",
       "1                    19.756275                    45383            8.567108   \n",
       "2                    10.873943                    51106            8.238305   \n",
       "3                    26.397638                    40593           12.129932   \n",
       "4                    12.315809                    47422           14.424104   \n",
       "...                        ...                      ...                 ...   \n",
       "1195                 22.013730                    41051            3.901047   \n",
       "1196                 13.337321                    76004            2.786971   \n",
       "1197                  9.417120                    68233            5.072255   \n",
       "1198                 10.678218                    53323            6.390755   \n",
       "1199                 19.650341                    46212            7.441860   \n",
       "\n",
       "      Percent Less than High School Degree  \\\n",
       "0                                21.758252   \n",
       "1                                13.409171   \n",
       "2                                11.085381   \n",
       "3                                15.729958   \n",
       "4                                14.580797   \n",
       "...                                    ...   \n",
       "1195                              9.675889   \n",
       "1196                              4.658830   \n",
       "1197                              9.314606   \n",
       "1198                             10.361224   \n",
       "1199                             12.577108   \n",
       "\n",
       "      Percent Less than Bachelor's Degree  Percent Rural  \n",
       "0                               88.941063      74.061076  \n",
       "1                               76.837055      36.301067  \n",
       "2                               65.791439      31.466066  \n",
       "3                               82.262624      41.062000  \n",
       "4                               86.675944      46.437399  \n",
       "...                                   ...            ...  \n",
       "1195                            80.300395      58.647744  \n",
       "1196                            75.645069     100.000000  \n",
       "1197                            78.628507      10.916313  \n",
       "1198                            81.793082      43.095937  \n",
       "1199                            78.923920      35.954529  \n",
       "\n",
       "[1200 rows x 21 columns]"
      ]
     },
     "execution_count": 8,
     "metadata": {},
     "output_type": "execute_result"
    }
   ],
   "source": [
    "merge_data"
   ]
  },
  {
   "cell_type": "markdown",
   "metadata": {},
   "source": [
    "#### 3. Explore the merged dataset. How many variables does the dataset have? What is the type of these variables? Are there any irrelevant or redundant variables? If so, how will you deal with these variables?"
   ]
  },
  {
   "cell_type": "code",
   "execution_count": 9,
   "metadata": {},
   "outputs": [
    {
     "data": {
      "text/plain": [
       "21"
      ]
     },
     "execution_count": 9,
     "metadata": {},
     "output_type": "execute_result"
    }
   ],
   "source": [
    "len(merge_data.columns)"
   ]
  },
  {
   "cell_type": "code",
   "execution_count": 10,
   "metadata": {},
   "outputs": [
    {
     "data": {
      "text/plain": [
       "Year                                       int64\n",
       "State                                     object\n",
       "County                                    object\n",
       "Office                                    object\n",
       "Democratic                               float64\n",
       "Republican                               float64\n",
       "FIPS                                       int64\n",
       "Total Population                           int64\n",
       "Citizen Voting-Age Population              int64\n",
       "Percent White, not Hispanic or Latino    float64\n",
       "Percent Black, not Hispanic or Latino    float64\n",
       "Percent Hispanic or Latino               float64\n",
       "Percent Foreign Born                     float64\n",
       "Percent Female                           float64\n",
       "Percent Age 29 and Under                 float64\n",
       "Percent Age 65 and Older                 float64\n",
       "Median Household Income                    int64\n",
       "Percent Unemployed                       float64\n",
       "Percent Less than High School Degree     float64\n",
       "Percent Less than Bachelor's Degree      float64\n",
       "Percent Rural                            float64\n",
       "dtype: object"
      ]
     },
     "execution_count": 10,
     "metadata": {},
     "output_type": "execute_result"
    }
   ],
   "source": [
    "merge_data.dtypes"
   ]
  },
  {
   "cell_type": "code",
   "execution_count": 11,
   "metadata": {},
   "outputs": [
    {
     "name": "stdout",
     "output_type": "stream",
     "text": [
      "Year 1\n",
      "State 30\n",
      "County 881\n",
      "Office 1\n",
      "Democratic 1142\n",
      "Republican 1160\n",
      "FIPS 1200\n",
      "Total Population 1190\n",
      "Citizen Voting-Age Population 513\n",
      "Percent White, not Hispanic or Latino 1200\n",
      "Percent Black, not Hispanic or Latino 1155\n",
      "Percent Hispanic or Latino 1196\n",
      "Percent Foreign Born 1197\n",
      "Percent Female 1199\n",
      "Percent Age 29 and Under 1200\n",
      "Percent Age 65 and Older 1200\n",
      "Median Household Income 1181\n",
      "Percent Unemployed 1195\n",
      "Percent Less than High School Degree 1200\n",
      "Percent Less than Bachelor's Degree 1200\n",
      "Percent Rural 945\n"
     ]
    }
   ],
   "source": [
    "for i in merge_data:\n",
    "    print(i, len(merge_data[i].value_counts()))"
   ]
  },
  {
   "cell_type": "code",
   "execution_count": 12,
   "metadata": {},
   "outputs": [],
   "source": [
    "merge_data = merge_data.drop(['Year', 'Office', 'Citizen Voting-Age Population'], axis = 1)"
   ]
  },
  {
   "cell_type": "markdown",
   "metadata": {},
   "source": [
    "There are 21 variable, and Year and Office have only one value, so we can drop both of themm and 'Citizen Voting-Age Population' has many zeros, so also drop it"
   ]
  },
  {
   "cell_type": "markdown",
   "metadata": {},
   "source": [
    "#### 4. Search the merged dataset for missing values. Are there any missing values? If so, how will you deal with these values?"
   ]
  },
  {
   "cell_type": "code",
   "execution_count": 13,
   "metadata": {},
   "outputs": [
    {
     "data": {
      "text/plain": [
       "State                                    0\n",
       "County                                   0\n",
       "Democratic                               3\n",
       "Republican                               2\n",
       "FIPS                                     0\n",
       "Total Population                         0\n",
       "Percent White, not Hispanic or Latino    0\n",
       "Percent Black, not Hispanic or Latino    0\n",
       "Percent Hispanic or Latino               0\n",
       "Percent Foreign Born                     0\n",
       "Percent Female                           0\n",
       "Percent Age 29 and Under                 0\n",
       "Percent Age 65 and Older                 0\n",
       "Median Household Income                  0\n",
       "Percent Unemployed                       0\n",
       "Percent Less than High School Degree     0\n",
       "Percent Less than Bachelor's Degree      0\n",
       "Percent Rural                            0\n",
       "dtype: int64"
      ]
     },
     "execution_count": 13,
     "metadata": {},
     "output_type": "execute_result"
    }
   ],
   "source": [
    "merge_data.isnull().sum()"
   ]
  },
  {
   "cell_type": "code",
   "execution_count": 14,
   "metadata": {},
   "outputs": [],
   "source": [
    "merge_data = merge_data.fillna(0)"
   ]
  },
  {
   "cell_type": "markdown",
   "metadata": {},
   "source": [
    "There are 3 missing value in Democratic, and 2 missing value in Republican. and Because of both columns data type is float, I and have similar ratio of missing value, I think just change to Nan to 0 is good to way compare both dataset. "
   ]
  },
  {
   "cell_type": "markdown",
   "metadata": {},
   "source": [
    "#### 5.  Create a new variable named “Party” that labels each county as Democratic or Republican. This new variable should be equal to 1 if there were more votes cast for the Democratic party than the Republican party in that county and it should be equal to 0 otherwise."
   ]
  },
  {
   "cell_type": "code",
   "execution_count": 15,
   "metadata": {},
   "outputs": [],
   "source": [
    "merge_data['Party'] = np.where(merge_data.loc[:,'Democratic'] > merge_data.loc[:,'Republican'], 1, 0)"
   ]
  },
  {
   "cell_type": "markdown",
   "metadata": {},
   "source": [
    "#### 6. Compute the mean median household income for Democratic counties and Republican counties. Which one is higher? Perform a hypothesis test to determine whether this difference is statistically significant at the 𝜶 = 𝟎. 𝟎𝟓 significance level. What is the result of the test? What conclusion do you make from this result?"
   ]
  },
  {
   "cell_type": "code",
   "execution_count": 16,
   "metadata": {},
   "outputs": [
    {
     "name": "stdout",
     "output_type": "stream",
     "text": [
      "53766.455657492355\n",
      "48724.61512027492\n"
     ]
    }
   ],
   "source": [
    "democratic = merge_data.loc[merge_data['Party'] == 1]\n",
    "print(democratic['Median Household Income'].mean())\n",
    "republican = merge_data.loc[merge_data['Party'] == 0]\n",
    "print(republican['Median Household Income'].mean())"
   ]
  },
  {
   "cell_type": "code",
   "execution_count": 17,
   "metadata": {},
   "outputs": [],
   "source": [
    "[statistics, pvalue] = st.ttest_ind(republican['Median Household Income'],democratic['Median Household Income'],equal_var = False)"
   ]
  },
  {
   "cell_type": "code",
   "execution_count": 18,
   "metadata": {},
   "outputs": [
    {
     "name": "stdout",
     "output_type": "stream",
     "text": [
      "-5.495285546926579\n",
      "6.536254891102229e-08\n"
     ]
    }
   ],
   "source": [
    "print(statistics)\n",
    "print(pvalue)"
   ]
  },
  {
   "cell_type": "markdown",
   "metadata": {},
   "source": [
    "Democratic is higher, pvalue is also less than 0.05"
   ]
  },
  {
   "cell_type": "markdown",
   "metadata": {},
   "source": [
    "#### 7. Compute the mean population for Democratic counties and Republican counties. Which one is higher? Perform a hypothesis test to determine whether this difference is statistically significant at the 𝜶 = 𝟎. 𝟎𝟓 significance level. What is the result of the test? What conclusion do you make from this result?"
   ]
  },
  {
   "cell_type": "code",
   "execution_count": 19,
   "metadata": {},
   "outputs": [
    {
     "name": "stdout",
     "output_type": "stream",
     "text": [
      "299308.7217125382\n",
      "54041.167239404356\n"
     ]
    }
   ],
   "source": [
    "print(democratic['Total Population'].mean())\n",
    "print(republican['Total Population'].mean())"
   ]
  },
  {
   "cell_type": "code",
   "execution_count": 20,
   "metadata": {},
   "outputs": [
    {
     "name": "stdout",
     "output_type": "stream",
     "text": [
      "-7.986523328058514\n",
      "2.2795809094677384e-14\n"
     ]
    }
   ],
   "source": [
    "[statistics, pvalue] = st.ttest_ind(republican['Total Population'],democratic['Total Population'],equal_var = False)\n",
    "print(statistics)\n",
    "print(pvalue)"
   ]
  },
  {
   "cell_type": "markdown",
   "metadata": {},
   "source": [
    "#### 8.  Compare Democratic counties and Republican counties in terms of age, gender, race and ethnicity, and education by computing descriptive statistics and creating plots to visualize the results. What conclusions do you make for each variable from the descriptive statistics and the plots?"
   ]
  },
  {
   "cell_type": "code",
   "execution_count": 21,
   "metadata": {},
   "outputs": [],
   "source": [
    "#To show valid plots\n",
    "change_values = {1:'Democratic', 0:'Republican'}\n",
    "merge_data['Party'] = merge_data['Party'].map(change_values)"
   ]
  },
  {
   "cell_type": "code",
   "execution_count": 22,
   "metadata": {},
   "outputs": [],
   "source": [
    "merge_data['Age 29 and Under'] = (merge_data['Percent Age 29 and Under'] / 100) * merge_data['Total Population']\n",
    "merge_data['Age 65 and Older'] = (merge_data['Percent Age 65 and Older'] / 100) * merge_data['Total Population']\n",
    "merge_data['Age between 29 and 65'] = merge_data['Total Population'] - (merge_data['Age 29 and Under'] + merge_data['Age 65 and Older'])"
   ]
  },
  {
   "cell_type": "code",
   "execution_count": 23,
   "metadata": {},
   "outputs": [],
   "source": [
    "data_age = merge_data[['Age 29 and Under','Age between 29 and 65' ,'Age 65 and Older','Party']]"
   ]
  },
  {
   "cell_type": "code",
   "execution_count": 24,
   "metadata": {},
   "outputs": [],
   "source": [
    "data_age = data_age.melt('Party', var_name='Age Range', value_name = 'Population')"
   ]
  },
  {
   "cell_type": "code",
   "execution_count": 25,
   "metadata": {},
   "outputs": [
    {
     "data": {
      "text/plain": [
       "<AxesSubplot:xlabel='Party', ylabel='Population'>"
      ]
     },
     "execution_count": 25,
     "metadata": {},
     "output_type": "execute_result"
    },
    {
     "data": {
      "image/png": "[encoded data removed]",
      "text/plain": [
       "<Figure size 720x360 with 1 Axes>"
      ]
     },
     "metadata": {
      "needs_background": "light"
     },
     "output_type": "display_data"
    }
   ],
   "source": [
    "fig, axes = plt.subplots(1,1,figsize = (10,5))\n",
    "sns.barplot(x = 'Party', y = 'Population',data=data_age, hue = 'Age Range')"
   ]
  },
  {
   "cell_type": "code",
   "execution_count": 26,
   "metadata": {},
   "outputs": [],
   "source": [
    "merge_data['Female'] = (merge_data['Percent Female'] * merge_data['Total Population']) / 100\n",
    "merge_data['Male'] = (merge_data['Total Population'] - merge_data['Female'])"
   ]
  },
  {
   "cell_type": "code",
   "execution_count": 27,
   "metadata": {},
   "outputs": [],
   "source": [
    "data_gender = merge_data[['Female', 'Male', 'Party']]"
   ]
  },
  {
   "cell_type": "code",
   "execution_count": 28,
   "metadata": {},
   "outputs": [],
   "source": [
    "data_gender = data_gender.melt('Party', var_name = 'Gender', value_name = 'Population')"
   ]
  },
  {
   "cell_type": "code",
   "execution_count": 29,
   "metadata": {},
   "outputs": [
    {
     "data": {
      "text/plain": [
       "<AxesSubplot:xlabel='Party', ylabel='Population'>"
      ]
     },
     "execution_count": 29,
     "metadata": {},
     "output_type": "execute_result"
    },
    {
     "data": {
      "image/png": "[encoded data removed]",
      "text/plain": [
       "<Figure size 720x360 with 1 Axes>"
      ]
     },
     "metadata": {
      "needs_background": "light"
     },
     "output_type": "display_data"
    }
   ],
   "source": [
    "fig, axes = plt.subplots(1,1,figsize = (10,5))\n",
    "sns.barplot(x = 'Party', y = 'Population',data=data_gender, hue = 'Gender')"
   ]
  },
  {
   "cell_type": "code",
   "execution_count": 30,
   "metadata": {},
   "outputs": [],
   "source": [
    "merge_data['White'] = (merge_data['Percent White, not Hispanic or Latino'] / 100) * merge_data['Total Population']\n",
    "merge_data['Black'] = (merge_data['Percent Black, not Hispanic or Latino'] / 100) * merge_data['Total Population']\n",
    "merge_data['Hispanic or Latino'] = (merge_data['Percent Hispanic or Latino'] / 100) * merge_data['Total Population']\n",
    "merge_data['Others'] = merge_data['Total Population'] - (merge_data['White'] + merge_data['Black'] + merge_data['Hispanic or Latino'])"
   ]
  },
  {
   "cell_type": "code",
   "execution_count": 31,
   "metadata": {},
   "outputs": [],
   "source": [
    "data_race = merge_data[['White','Black' ,'Hispanic or Latino','Others', 'Party']]\n",
    "data_race = data_race.melt('Party', var_name='Race', value_name = 'Population')"
   ]
  },
  {
   "cell_type": "code",
   "execution_count": 32,
   "metadata": {},
   "outputs": [
    {
     "data": {
      "text/plain": [
       "<AxesSubplot:xlabel='Party', ylabel='Population'>"
      ]
     },
     "execution_count": 32,
     "metadata": {},
     "output_type": "execute_result"
    },
    {
     "data": {
      "image/png": "[encoded data removed]",
      "text/plain": [
       "<Figure size 720x360 with 1 Axes>"
      ]
     },
     "metadata": {
      "needs_background": "light"
     },
     "output_type": "display_data"
    }
   ],
   "source": [
    "fig, axes = plt.subplots(1,1,figsize = (10,5))\n",
    "sns.barplot(x = 'Party', y = 'Population',data=data_race, hue = 'Race')"
   ]
  },
  {
   "cell_type": "code",
   "execution_count": 33,
   "metadata": {},
   "outputs": [],
   "source": [
    "merge_data['Less than High School Degree'] = (merge_data['Percent Less than High School Degree'] / 100) * merge_data['Total Population']\n",
    "merge_data[\"Less than Bachelor's Degree\"] = (merge_data[\"Percent Less than Bachelor's Degree\"] / 100) * merge_data['Total Population']\n",
    "merge_data['Others'] = merge_data['Total Population'] - (merge_data['Less than High School Degree'] + merge_data[\"Less than Bachelor's Degree\"])"
   ]
  },
  {
   "cell_type": "code",
   "execution_count": 34,
   "metadata": {},
   "outputs": [],
   "source": [
    "data_edu= merge_data[['Less than High School Degree',\"Less than Bachelor's Degree\" ,'Others', 'Party']]\n",
    "data_edu = data_edu.melt('Party', var_name='Education', value_name = 'Population')"
   ]
  },
  {
   "cell_type": "code",
   "execution_count": 35,
   "metadata": {},
   "outputs": [
    {
     "data": {
      "text/plain": [
       "<AxesSubplot:xlabel='Party', ylabel='Population'>"
      ]
     },
     "execution_count": 35,
     "metadata": {},
     "output_type": "execute_result"
    },
    {
     "data": {
      "image/png": "[encoded data removed]",
      "text/plain": [
       "<Figure size 720x360 with 1 Axes>"
      ]
     },
     "metadata": {
      "needs_background": "light"
     },
     "output_type": "display_data"
    }
   ],
   "source": [
    "fig, axes = plt.subplots(1,1,figsize = (10,5))\n",
    "sns.barplot(x = 'Party', y = 'Population',data=data_edu, hue = 'Education')"
   ]
  },
  {
   "cell_type": "markdown",
   "metadata": {},
   "source": [
    "#### 9. Based on your results for tasks 6-8, which variables in the dataset do you think are more important to determine whether a county is labeled as Democratic or Republican? Justify your answer."
   ]
  },
  {
   "cell_type": "markdown",
   "metadata": {},
   "source": [
    "#### 10.Create a map of Democratic counties and Republican counties using the counties’ FIPS codes and Python’s Plotly library (plot.ly/python/county-choropleth/). Note that this dataset does not include all United States counties.\n"
   ]
  },
  {
   "cell_type": "code",
   "execution_count": null,
   "metadata": {},
   "outputs": [],
   "source": []
  }
 ],
 "metadata": {
  "kernelspec": {
   "display_name": "Python 3",
   "language": "python",
   "name": "python3"
  },
  "language_info": {
   "codemirror_mode": {
    "name": "ipython",
    "version": 3
   },
   "file_extension": ".py",
   "mimetype": "text/x-python",
   "name": "python",
   "nbconvert_exporter": "python",
   "pygments_lexer": "ipython3",
   "version": "3.8.5"
  }
 },
 "nbformat": 4,
 "nbformat_minor": 2
}
