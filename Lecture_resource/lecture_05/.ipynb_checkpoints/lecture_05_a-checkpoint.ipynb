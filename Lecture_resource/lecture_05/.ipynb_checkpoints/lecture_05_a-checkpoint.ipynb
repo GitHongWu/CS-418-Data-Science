{
 "cells": [
  {
   "cell_type": "markdown",
   "metadata": {},
   "source": [
    "# Lecture 05 (a)\n",
    "In this example, we will **reshape** several datasets. Complete the code by filling in the blanks (`...`)."
   ]
  },
  {
   "cell_type": "code",
   "execution_count": null,
   "metadata": {},
   "outputs": [],
   "source": [
    "import pandas as pd"
   ]
  },
  {
   "cell_type": "code",
   "execution_count": null,
   "metadata": {},
   "outputs": [],
   "source": [
    "# Dataset B is TIDY\n",
    "data_b = pd.read_csv(\"data_lecture_05_b.csv\")\n",
    "print(data_b)"
   ]
  },
  {
   "cell_type": "code",
   "execution_count": null,
   "metadata": {},
   "outputs": [],
   "source": [
    "# TIDYING dataset A\n",
    "# PROBLEM: one observation is stored in multiple rows\n",
    "data_a = pd.read_csv(\"data_lecture_05_a.csv\")\n",
    "print(data_a)"
   ]
  },
  {
   "cell_type": "code",
   "execution_count": null,
   "metadata": {},
   "outputs": [],
   "source": [
    "# Reshape (pivot) dataset A from long format to wide format\n",
    "data_a_tidy = pd.pivot_table(...).reset_index()\n",
    "print(data_a_tidy)"
   ]
  },
  {
   "cell_type": "code",
   "execution_count": null,
   "metadata": {},
   "outputs": [],
   "source": [
    "# TIDYING dataset C\n",
    "# PROBLEM: multiple variables ('cases', 'population') are stored in one column ('rate')\n",
    "data_c = pd.read_csv(\"data_lecture_05_c.csv\")\n",
    "print(data_c)"
   ]
  },
  {
   "cell_type": "code",
   "execution_count": null,
   "metadata": {},
   "outputs": [],
   "source": [
    "# Split 'rate' into two columns ('cases', 'population')\n",
    "data_c_split = data_c['rate'].str.split(...)\n",
    "data_c_split.columns = ['cases', 'population']\n",
    "print(data_c_split)"
   ]
  },
  {
   "cell_type": "code",
   "execution_count": null,
   "metadata": {},
   "outputs": [],
   "source": [
    "# Concatenate 'country', 'year', 'cases', and 'population'\n",
    "data_c_tidy = pd.concat(???)\n",
    "print(data_c_tidy)"
   ]
  },
  {
   "cell_type": "code",
   "execution_count": null,
   "metadata": {},
   "outputs": [],
   "source": [
    "# TIDYING dataset D\n",
    "# PROBLEM 1: column headers ('1999', '2000') are values, not variable names\n",
    "# PROBLEM 2: a single observational unit is stored in multiple tables\n",
    "data_d1 = pd.read_csv(\"data_lecture_05_d1.csv\")\n",
    "print(data_d1)\n",
    "data_d2 = pd.read_csv(\"data_lecture_05_d2.csv\")\n",
    "print(data_d2)"
   ]
  },
  {
   "cell_type": "code",
   "execution_count": null,
   "metadata": {},
   "outputs": [],
   "source": [
    "# Reshape (melt) dataset D1 from wide format to long format\n",
    "data_d1_tidy = pd.melt(...)\n",
    "print(data_d1_tidy)"
   ]
  },
  {
   "cell_type": "code",
   "execution_count": null,
   "metadata": {},
   "outputs": [],
   "source": [
    "# Reshape (melt) dataset D2 from wide format to long format\n",
    "data_d2_tidy = pd.melt(...)\n",
    "print(data_d2_tidy)"
   ]
  },
  {
   "cell_type": "code",
   "execution_count": null,
   "metadata": {},
   "outputs": [],
   "source": [
    "# Merge dataset D1 and dataset D2\n",
    "data_d_tidy = pd.merge(...)\n",
    "print(data_d_tidy)"
   ]
  }
 ],
 "metadata": {
  "kernelspec": {
   "display_name": "Python 3",
   "language": "python",
   "name": "python3"
  },
  "language_info": {
   "codemirror_mode": {
    "name": "ipython",
    "version": 3
   },
   "file_extension": ".py",
   "mimetype": "text/x-python",
   "name": "python",
   "nbconvert_exporter": "python",
   "pygments_lexer": "ipython3",
   "version": "3.8.5"
  }
 },
 "nbformat": 4,
 "nbformat_minor": 2
}
