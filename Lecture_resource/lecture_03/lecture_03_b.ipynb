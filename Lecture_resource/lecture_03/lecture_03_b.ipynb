{
 "cells": [
  {
   "cell_type": "markdown",
   "metadata": {},
   "source": [
    "# Lecture 03 (b)\n",
    "In this example, we will perform a **two-sample t-test for population means**. Complete the code by filling in the blanks (`...`)."
   ]
  },
  {
   "cell_type": "code",
   "execution_count": 1,
   "metadata": {},
   "outputs": [
    {
     "name": "stdout",
     "output_type": "stream",
     "text": [
      "   nodrug  drug\n",
      "0      24    13\n",
      "1      38    12\n",
      "2      21    11\n",
      "3      56    15\n",
      "4      21    14\n",
      "5      16    17\n",
      "6      34    14\n",
      "7      39    17\n",
      "8      14    19\n",
      "9      15    22\n"
     ]
    }
   ],
   "source": [
    "# Read dataset\n",
    "import pandas as pd\n",
    "data = pd.read_csv(\"data_lecture_03_b.csv\")\n",
    "print(data)"
   ]
  },
  {
   "cell_type": "code",
   "execution_count": 2,
   "metadata": {},
   "outputs": [
    {
     "name": "stdout",
     "output_type": "stream",
     "text": [
      "nodrug    27.8\n",
      "drug      15.4\n",
      "dtype: float64\n"
     ]
    }
   ],
   "source": [
    "# Compute sample means\n",
    "sample_mean = data.mean()\n",
    "print(sample_mean)"
   ]
  },
  {
   "cell_type": "code",
   "execution_count": 3,
   "metadata": {},
   "outputs": [
    {
     "name": "stdout",
     "output_type": "stream",
     "text": [
      "nodrug    13.595751\n",
      "drug       3.373096\n",
      "dtype: float64\n"
     ]
    }
   ],
   "source": [
    "# Compute sample standard deviations\n",
    "sample_std = data.std()\n",
    "print(sample_std)"
   ]
  },
  {
   "cell_type": "code",
   "execution_count": 5,
   "metadata": {},
   "outputs": [
    {
     "name": "stdout",
     "output_type": "stream",
     "text": [
      "2.7992880505646385\n",
      "0.018643414767040498\n"
     ]
    }
   ],
   "source": [
    "# Compute p-value using scipy.stats.ttest_ind\n",
    "# Documentation: https://docs.scipy.org/doc/scipy-0.13.0/reference/generated/scipy.stats.ttest_ind.html\n",
    "import scipy.stats as st\n",
    "[statistic, pvalue] = st.ttest_ind(data['nodrug'], data['drug'], equal_var=False)\n",
    "# equal_var defeat true, if we assume the two population is equal\n",
    "# in this case, we can not assum the population is equal\n",
    "print(statistic)\n",
    "print(pvalue)"
   ]
  }
 ],
 "metadata": {
  "kernelspec": {
   "display_name": "Python 3",
   "language": "python",
   "name": "python3"
  },
  "language_info": {
   "codemirror_mode": {
    "name": "ipython",
    "version": 3
   },
   "file_extension": ".py",
   "mimetype": "text/x-python",
   "name": "python",
   "nbconvert_exporter": "python",
   "pygments_lexer": "ipython3",
   "version": "3.8.5"
  }
 },
 "nbformat": 4,
 "nbformat_minor": 2
}
