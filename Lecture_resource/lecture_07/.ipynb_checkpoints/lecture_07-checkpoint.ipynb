{
 "cells": [
  {
   "cell_type": "markdown",
   "metadata": {},
   "source": [
    "# Lecture 07\n",
    "In this example, we will **explore** a dataset using summary statistics and visualization."
   ]
  },
  {
   "cell_type": "code",
   "execution_count": 1,
   "metadata": {},
   "outputs": [],
   "source": [
    "# Load libraries\n",
    "import pandas as pd\n",
    "import matplotlib.pyplot as plt\n",
    "import seaborn as sns"
   ]
  },
  {
   "cell_type": "code",
   "execution_count": 2,
   "metadata": {},
   "outputs": [
    {
     "name": "stdout",
     "output_type": "stream",
     "text": [
      "        Age  Gender  Signed_In  Ads  Clicks\n",
      "0        36       0          1    3       0\n",
      "1        73       1          1    3       0\n",
      "2        30       0          1    3       0\n",
      "3        49       1          1    3       0\n",
      "4        47       1          1   11       0\n",
      "...     ...     ...        ...  ...     ...\n",
      "458436    0       0          0    2       0\n",
      "458437    0       0          0    4       0\n",
      "458438   72       1          1    5       0\n",
      "458439    0       0          0    5       0\n",
      "458440    0       0          0    3       0\n",
      "\n",
      "[458441 rows x 5 columns]\n"
     ]
    }
   ],
   "source": [
    "# Load dataset\n",
    "data = pd.read_csv('data_lecture_07.csv')\n",
    "print(data)"
   ]
  },
  {
   "cell_type": "code",
   "execution_count": 3,
   "metadata": {},
   "outputs": [
    {
     "name": "stdout",
     "output_type": "stream",
     "text": [
      "        Age  Gender  Signed_In  Ads  Clicks  Rate\n",
      "0        36       0          1    3       0   0.0\n",
      "1        73       1          1    3       0   0.0\n",
      "2        30       0          1    3       0   0.0\n",
      "3        49       1          1    3       0   0.0\n",
      "4        47       1          1   11       0   0.0\n",
      "...     ...     ...        ...  ...     ...   ...\n",
      "458436    0       0          0    2       0   0.0\n",
      "458437    0       0          0    4       0   0.0\n",
      "458438   72       1          1    5       0   0.0\n",
      "458439    0       0          0    5       0   0.0\n",
      "458440    0       0          0    3       0   0.0\n",
      "\n",
      "[458441 rows x 6 columns]\n"
     ]
    }
   ],
   "source": [
    "# Calculate click-through-rate\n",
    "data['Rate'] = data['Clicks']/data['Ads']\n",
    "print(data)"
   ]
  },
  {
   "cell_type": "code",
   "execution_count": 4,
   "metadata": {},
   "outputs": [
    {
     "data": {
      "text/html": [
       "<div>\n",
       "<style scoped>\n",
       "    .dataframe tbody tr th:only-of-type {\n",
       "        vertical-align: middle;\n",
       "    }\n",
       "\n",
       "    .dataframe tbody tr th {\n",
       "        vertical-align: top;\n",
       "    }\n",
       "\n",
       "    .dataframe thead th {\n",
       "        text-align: right;\n",
       "    }\n",
       "</style>\n",
       "<table border=\"1\" class=\"dataframe\">\n",
       "  <thead>\n",
       "    <tr style=\"text-align: right;\">\n",
       "      <th></th>\n",
       "      <th>Age</th>\n",
       "      <th>Gender</th>\n",
       "      <th>Signed_In</th>\n",
       "      <th>Ads</th>\n",
       "      <th>Clicks</th>\n",
       "      <th>Rate</th>\n",
       "    </tr>\n",
       "  </thead>\n",
       "  <tbody>\n",
       "    <tr>\n",
       "      <th>count</th>\n",
       "      <td>458441.000000</td>\n",
       "      <td>458441.000000</td>\n",
       "      <td>458441.000000</td>\n",
       "      <td>458441.000000</td>\n",
       "      <td>458441.000000</td>\n",
       "      <td>455375.000000</td>\n",
       "    </tr>\n",
       "    <tr>\n",
       "      <th>mean</th>\n",
       "      <td>29.482551</td>\n",
       "      <td>0.367037</td>\n",
       "      <td>0.700930</td>\n",
       "      <td>5.007316</td>\n",
       "      <td>0.092594</td>\n",
       "      <td>0.018471</td>\n",
       "    </tr>\n",
       "    <tr>\n",
       "      <th>std</th>\n",
       "      <td>23.607034</td>\n",
       "      <td>0.481997</td>\n",
       "      <td>0.457851</td>\n",
       "      <td>2.239349</td>\n",
       "      <td>0.309973</td>\n",
       "      <td>0.069034</td>\n",
       "    </tr>\n",
       "    <tr>\n",
       "      <th>min</th>\n",
       "      <td>0.000000</td>\n",
       "      <td>0.000000</td>\n",
       "      <td>0.000000</td>\n",
       "      <td>0.000000</td>\n",
       "      <td>0.000000</td>\n",
       "      <td>0.000000</td>\n",
       "    </tr>\n",
       "    <tr>\n",
       "      <th>25%</th>\n",
       "      <td>0.000000</td>\n",
       "      <td>0.000000</td>\n",
       "      <td>0.000000</td>\n",
       "      <td>3.000000</td>\n",
       "      <td>0.000000</td>\n",
       "      <td>0.000000</td>\n",
       "    </tr>\n",
       "    <tr>\n",
       "      <th>50%</th>\n",
       "      <td>31.000000</td>\n",
       "      <td>0.000000</td>\n",
       "      <td>1.000000</td>\n",
       "      <td>5.000000</td>\n",
       "      <td>0.000000</td>\n",
       "      <td>0.000000</td>\n",
       "    </tr>\n",
       "    <tr>\n",
       "      <th>75%</th>\n",
       "      <td>48.000000</td>\n",
       "      <td>1.000000</td>\n",
       "      <td>1.000000</td>\n",
       "      <td>6.000000</td>\n",
       "      <td>0.000000</td>\n",
       "      <td>0.000000</td>\n",
       "    </tr>\n",
       "    <tr>\n",
       "      <th>max</th>\n",
       "      <td>108.000000</td>\n",
       "      <td>1.000000</td>\n",
       "      <td>1.000000</td>\n",
       "      <td>20.000000</td>\n",
       "      <td>4.000000</td>\n",
       "      <td>1.000000</td>\n",
       "    </tr>\n",
       "  </tbody>\n",
       "</table>\n",
       "</div>"
      ],
      "text/plain": [
       "                 Age         Gender      Signed_In            Ads  \\\n",
       "count  458441.000000  458441.000000  458441.000000  458441.000000   \n",
       "mean       29.482551       0.367037       0.700930       5.007316   \n",
       "std        23.607034       0.481997       0.457851       2.239349   \n",
       "min         0.000000       0.000000       0.000000       0.000000   \n",
       "25%         0.000000       0.000000       0.000000       3.000000   \n",
       "50%        31.000000       0.000000       1.000000       5.000000   \n",
       "75%        48.000000       1.000000       1.000000       6.000000   \n",
       "max       108.000000       1.000000       1.000000      20.000000   \n",
       "\n",
       "              Clicks           Rate  \n",
       "count  458441.000000  455375.000000  \n",
       "mean        0.092594       0.018471  \n",
       "std         0.309973       0.069034  \n",
       "min         0.000000       0.000000  \n",
       "25%         0.000000       0.000000  \n",
       "50%         0.000000       0.000000  \n",
       "75%         0.000000       0.000000  \n",
       "max         4.000000       1.000000  "
      ]
     },
     "execution_count": 4,
     "metadata": {},
     "output_type": "execute_result"
    }
   ],
   "source": [
    "# Calculate summary statistics of users\n",
    "data.describe()"
   ]
  },
  {
   "cell_type": "code",
   "execution_count": 5,
   "metadata": {},
   "outputs": [
    {
     "data": {
      "image/png": "[encoded data removed]",
      "text/plain": [
       "<Figure size 720x360 with 6 Axes>"
      ]
     },
     "metadata": {
      "needs_background": "light"
     },
     "output_type": "display_data"
    }
   ],
   "source": [
    "# Visualize summary statistics of users using box plots\n",
    "num_columns = len(data.columns)\n",
    "fig, axes = plt.subplots(1, num_columns, figsize = (10, 5))\n",
    "for i in range(num_columns):\n",
    "    sns.boxplot(y = data.columns[i], data = data, orient = 'v', ax = axes[i])\n",
    "plt.tight_layout()"
   ]
  },
  {
   "cell_type": "markdown",
   "metadata": {},
   "source": [
    "#### Question 01: What information do we obtain from the summary statistics/box plots?"
   ]
  },
  {
   "cell_type": "code",
   "execution_count": null,
   "metadata": {},
   "outputs": [],
   "source": [
    "# Calculate summary statistics of users with age = 0\n",
    "data[data['Age'] == 0].describe()"
   ]
  },
  {
   "cell_type": "code",
   "execution_count": null,
   "metadata": {},
   "outputs": [],
   "source": [
    "# Visualize summary statistics of users with age = 0 using box plots\n",
    "num_columns = len(data.columns)\n",
    "fig, axes = plt.subplots(1, num_columns, figsize = (10, 5))\n",
    "for i in range(num_columns):\n",
    "    sns.boxplot(y = data.columns[i], data = data[data['Age'] == 0], orient = 'v', ax = axes[i])\n",
    "plt.tight_layout()"
   ]
  },
  {
   "cell_type": "markdown",
   "metadata": {},
   "source": [
    "#### Question 02: What can we infer about the users with age = 0?"
   ]
  },
  {
   "cell_type": "code",
   "execution_count": null,
   "metadata": {},
   "outputs": [],
   "source": [
    "# Calculate summary statistics of users grouped by 'sign in' status\n",
    "data.groupby('Signed_In').describe().transpose()"
   ]
  },
  {
   "cell_type": "code",
   "execution_count": null,
   "metadata": {},
   "outputs": [],
   "source": [
    "# Visualize summary statistics of users grouped by 'sign in' status using box plots\n",
    "num_columns = len(data.columns)\n",
    "fig, axes = plt.subplots(1, num_columns, figsize = (10, 5))\n",
    "for i in range(num_columns):\n",
    "    sns.boxplot(x = 'Signed_In', y = data.columns[i], data = data, orient = 'v', ax = axes[i])\n",
    "plt.tight_layout()"
   ]
  },
  {
   "cell_type": "markdown",
   "metadata": {},
   "source": [
    "#### Question 03: What information do we obtain by grouping the users by 'sign in' status?"
   ]
  },
  {
   "cell_type": "code",
   "execution_count": null,
   "metadata": {},
   "outputs": [],
   "source": [
    "# Calculate summary statistics of signed-in users grouped by gender\n",
    "data[data['Signed_In'] == 1].groupby('Gender').describe().transpose()"
   ]
  },
  {
   "cell_type": "code",
   "execution_count": null,
   "metadata": {},
   "outputs": [],
   "source": [
    "# Visualize summary statistics of signed-in users grouped by gender using box plots\n",
    "num_columns = len(data.columns)\n",
    "fig, axes = plt.subplots(1, num_columns, figsize = (10, 5))\n",
    "for i in range(num_columns):\n",
    "    sns.boxplot(x = 'Gender', y = data.columns[i], data = data[data['Signed_In'] == 1], orient = 'v', ax = axes[i])\n",
    "plt.tight_layout()"
   ]
  },
  {
   "cell_type": "markdown",
   "metadata": {},
   "source": [
    "#### Question 04: What information do we obtain by grouping the signed-in users by gender?"
   ]
  },
  {
   "cell_type": "code",
   "execution_count": null,
   "metadata": {},
   "outputs": [],
   "source": [
    "# Separate users by age group\n",
    "bins = pd.IntervalIndex.from_tuples([(0, 18), (18, 24), (24, 34), (34, 44), (44, 54), (54, 64), (64, 110)])\n",
    "data['Age_Group'] = pd.cut(data['Age'], bins)\n",
    "print(data)"
   ]
  },
  {
   "cell_type": "code",
   "execution_count": null,
   "metadata": {},
   "outputs": [],
   "source": [
    "# Calculate summary statistics of signed-in users by age group\n",
    "data.groupby('Age_Group').describe().transpose()"
   ]
  },
  {
   "cell_type": "code",
   "execution_count": null,
   "metadata": {},
   "outputs": [],
   "source": [
    "# Visualize means of signed-in users by age group\n",
    "fig, axes = plt.subplots(3, 1, figsize = (10, 5))\n",
    "sns.barplot(x = 'Age_Group', y = 'Ads', data = data, ax = axes[0])\n",
    "sns.barplot(x = 'Age_Group', y = 'Clicks', data = data, ax = axes[1])\n",
    "sns.barplot(x = 'Age_Group', y = 'Rate', data = data, ax = axes[2])\n",
    "plt.tight_layout()"
   ]
  },
  {
   "cell_type": "markdown",
   "metadata": {},
   "source": [
    "#### Question 05: What information do we obtain by grouping the signed-in users by age?"
   ]
  },
  {
   "cell_type": "code",
   "execution_count": null,
   "metadata": {},
   "outputs": [],
   "source": [
    "# Visualize means of signed-in users by age group and gender\n",
    "fig, axes = plt.subplots(3, 1, figsize = (10, 5))\n",
    "sns.barplot(x = 'Age_Group', y = 'Ads', hue = 'Gender', data = data, ax = axes[0])\n",
    "sns.barplot(x = 'Age_Group', y = 'Clicks', hue = 'Gender', data = data, ax = axes[1])\n",
    "sns.barplot(x = 'Age_Group', y = 'Rate', hue = 'Gender', data = data, ax = axes[2])\n",
    "plt.tight_layout()"
   ]
  },
  {
   "cell_type": "markdown",
   "metadata": {},
   "source": [
    "#### Question 06: What information do we obtain by grouping the signed-in users by age and gender?"
   ]
  },
  {
   "cell_type": "markdown",
   "metadata": {},
   "source": [
    "#### Question 07: Can we build a model to predict click-through-rate given these variables?"
   ]
  }
 ],
 "metadata": {
  "kernelspec": {
   "display_name": "Python 3",
   "language": "python",
   "name": "python3"
  },
  "language_info": {
   "codemirror_mode": {
    "name": "ipython",
    "version": 3
   },
   "file_extension": ".py",
   "mimetype": "text/x-python",
   "name": "python",
   "nbconvert_exporter": "python",
   "pygments_lexer": "ipython3",
   "version": "3.8.5"
  }
 },
 "nbformat": 4,
 "nbformat_minor": 2
}
