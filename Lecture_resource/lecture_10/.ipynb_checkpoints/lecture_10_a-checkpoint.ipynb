{
 "cells": [
  {
   "cell_type": "markdown",
   "metadata": {},
   "source": [
    "# Lecture 10 (a)\n",
    "In this example, we will build a **linear regression model** to predict tip amount from multiple predictor variables."
   ]
  },
  {
   "cell_type": "code",
   "execution_count": 2,
   "metadata": {},
   "outputs": [],
   "source": [
    "# Load libraries\n",
    "import pandas as pd\n",
    "import matplotlib.pyplot as plt\n",
    "import seaborn as sns\n",
    "import statsmodels.formula.api as smf\n",
    "from sklearn import linear_model"
   ]
  },
  {
   "cell_type": "code",
   "execution_count": 3,
   "metadata": {},
   "outputs": [
    {
     "data": {
      "text/html": [
       "<div>\n",
       "<style scoped>\n",
       "    .dataframe tbody tr th:only-of-type {\n",
       "        vertical-align: middle;\n",
       "    }\n",
       "\n",
       "    .dataframe tbody tr th {\n",
       "        vertical-align: top;\n",
       "    }\n",
       "\n",
       "    .dataframe thead th {\n",
       "        text-align: right;\n",
       "    }\n",
       "</style>\n",
       "<table border=\"1\" class=\"dataframe\">\n",
       "  <thead>\n",
       "    <tr style=\"text-align: right;\">\n",
       "      <th></th>\n",
       "      <th>total_bill</th>\n",
       "      <th>tip</th>\n",
       "      <th>sex</th>\n",
       "      <th>smoker</th>\n",
       "      <th>day</th>\n",
       "      <th>time</th>\n",
       "      <th>size</th>\n",
       "    </tr>\n",
       "  </thead>\n",
       "  <tbody>\n",
       "    <tr>\n",
       "      <th>0</th>\n",
       "      <td>16.99</td>\n",
       "      <td>1.01</td>\n",
       "      <td>Female</td>\n",
       "      <td>No</td>\n",
       "      <td>Sun</td>\n",
       "      <td>Dinner</td>\n",
       "      <td>2</td>\n",
       "    </tr>\n",
       "    <tr>\n",
       "      <th>1</th>\n",
       "      <td>10.34</td>\n",
       "      <td>1.66</td>\n",
       "      <td>Male</td>\n",
       "      <td>No</td>\n",
       "      <td>Sun</td>\n",
       "      <td>Dinner</td>\n",
       "      <td>3</td>\n",
       "    </tr>\n",
       "    <tr>\n",
       "      <th>2</th>\n",
       "      <td>21.01</td>\n",
       "      <td>3.50</td>\n",
       "      <td>Male</td>\n",
       "      <td>No</td>\n",
       "      <td>Sun</td>\n",
       "      <td>Dinner</td>\n",
       "      <td>3</td>\n",
       "    </tr>\n",
       "    <tr>\n",
       "      <th>3</th>\n",
       "      <td>23.68</td>\n",
       "      <td>3.31</td>\n",
       "      <td>Male</td>\n",
       "      <td>No</td>\n",
       "      <td>Sun</td>\n",
       "      <td>Dinner</td>\n",
       "      <td>2</td>\n",
       "    </tr>\n",
       "    <tr>\n",
       "      <th>4</th>\n",
       "      <td>24.59</td>\n",
       "      <td>3.61</td>\n",
       "      <td>Female</td>\n",
       "      <td>No</td>\n",
       "      <td>Sun</td>\n",
       "      <td>Dinner</td>\n",
       "      <td>4</td>\n",
       "    </tr>\n",
       "  </tbody>\n",
       "</table>\n",
       "</div>"
      ],
      "text/plain": [
       "   total_bill   tip     sex smoker  day    time  size\n",
       "0       16.99  1.01  Female     No  Sun  Dinner     2\n",
       "1       10.34  1.66    Male     No  Sun  Dinner     3\n",
       "2       21.01  3.50    Male     No  Sun  Dinner     3\n",
       "3       23.68  3.31    Male     No  Sun  Dinner     2\n",
       "4       24.59  3.61  Female     No  Sun  Dinner     4"
      ]
     },
     "execution_count": 3,
     "metadata": {},
     "output_type": "execute_result"
    }
   ],
   "source": [
    "# Load dataset\n",
    "data = sns.load_dataset(\"tips\")\n",
    "data.head()"
   ]
  },
  {
   "cell_type": "code",
   "execution_count": 4,
   "metadata": {},
   "outputs": [
    {
     "name": "stdout",
     "output_type": "stream",
     "text": [
      "<class 'pandas.core.frame.DataFrame'>\n",
      "RangeIndex: 244 entries, 0 to 243\n",
      "Data columns (total 7 columns):\n",
      " #   Column      Non-Null Count  Dtype   \n",
      "---  ------      --------------  -----   \n",
      " 0   total_bill  244 non-null    float64 \n",
      " 1   tip         244 non-null    float64 \n",
      " 2   sex         244 non-null    category\n",
      " 3   smoker      244 non-null    category\n",
      " 4   day         244 non-null    category\n",
      " 5   time        244 non-null    category\n",
      " 6   size        244 non-null    int64   \n",
      "dtypes: category(4), float64(2), int64(1)\n",
      "memory usage: 7.3 KB\n",
      "None\n"
     ]
    }
   ],
   "source": [
    "# Explore data\n",
    "print(data.info())"
   ]
  },
  {
   "cell_type": "code",
   "execution_count": 5,
   "metadata": {},
   "outputs": [
    {
     "name": "stdout",
     "output_type": "stream",
     "text": [
      "['Female', 'Male']\n",
      "Categories (2, object): ['Female', 'Male']\n",
      "['No', 'Yes']\n",
      "Categories (2, object): ['No', 'Yes']\n",
      "['Sun', 'Sat', 'Thur', 'Fri']\n",
      "Categories (4, object): ['Sun', 'Sat', 'Thur', 'Fri']\n",
      "['Dinner', 'Lunch']\n",
      "Categories (2, object): ['Dinner', 'Lunch']\n"
     ]
    }
   ],
   "source": [
    "# Explore categorical variables\n",
    "print(data.sex.unique())\n",
    "print(data.smoker.unique())\n",
    "print(data.day.unique())\n",
    "print(data.time.unique())"
   ]
  },
  {
   "cell_type": "code",
   "execution_count": 6,
   "metadata": {},
   "outputs": [
    {
     "name": "stderr",
     "output_type": "stream",
     "text": [
      "C:\\Users\\hongc\\AppData\\Local\\Programs\\Python\\Python38\\lib\\site-packages\\seaborn\\_decorators.py:36: FutureWarning: Pass the following variables as keyword args: x, y. From version 0.12, the only valid positional argument will be `data`, and passing other arguments without an explicit keyword will result in an error or misinterpretation.\n",
      "  warnings.warn(\n",
      "C:\\Users\\hongc\\AppData\\Local\\Programs\\Python\\Python38\\lib\\site-packages\\seaborn\\_decorators.py:36: FutureWarning: Pass the following variables as keyword args: x, y. From version 0.12, the only valid positional argument will be `data`, and passing other arguments without an explicit keyword will result in an error or misinterpretation.\n",
      "  warnings.warn(\n"
     ]
    },
    {
     "data": {
      "image/png": "[encoded data removed]",
      "text/plain": [
       "<Figure size 720x288 with 2 Axes>"
      ]
     },
     "metadata": {
      "needs_background": "light"
     },
     "output_type": "display_data"
    }
   ],
   "source": [
    "# Plot total bill and size vs tip\n",
    "fig, axes = plt.subplots(1, 2, figsize = (10, 4))\n",
    "ax = sns.regplot(data['total_bill'], data['tip'], ax = axes[0])\n",
    "ax.set(title = 'Tip by total bill', xlabel = 'Total bill', ylabel = 'Tip')\n",
    "ax = sns.regplot(data['size'], data['tip'], ax = axes[1])\n",
    "ax.set(title = 'Tip by party size', xlabel = 'Size', ylabel = 'Tip')\n",
    "plt.tight_layout()"
   ]
  },
  {
   "cell_type": "code",
   "execution_count": 7,
   "metadata": {},
   "outputs": [
    {
     "name": "stdout",
     "output_type": "stream",
     "text": [
      "                            OLS Regression Results                            \n",
      "==============================================================================\n",
      "Dep. Variable:                    tip   R-squared:                       0.457\n",
      "Model:                            OLS   Adj. R-squared:                  0.454\n",
      "Method:                 Least Squares   F-statistic:                     203.4\n",
      "Date:                Thu, 01 Oct 2020   Prob (F-statistic):           6.69e-34\n",
      "Time:                        12:40:54   Log-Likelihood:                -350.54\n",
      "No. Observations:                 244   AIC:                             705.1\n",
      "Df Residuals:                     242   BIC:                             712.1\n",
      "Df Model:                           1                                         \n",
      "Covariance Type:            nonrobust                                         \n",
      "==============================================================================\n",
      "                 coef    std err          t      P>|t|      [0.025      0.975]\n",
      "------------------------------------------------------------------------------\n",
      "Intercept      0.9203      0.160      5.761      0.000       0.606       1.235\n",
      "total_bill     0.1050      0.007     14.260      0.000       0.091       0.120\n",
      "==============================================================================\n",
      "Omnibus:                       20.185   Durbin-Watson:                   2.151\n",
      "Prob(Omnibus):                  0.000   Jarque-Bera (JB):               37.750\n",
      "Skew:                           0.443   Prob(JB):                     6.35e-09\n",
      "Kurtosis:                       4.711   Cond. No.                         53.0\n",
      "==============================================================================\n",
      "\n",
      "Notes:\n",
      "[1] Standard Errors assume that the covariance matrix of the errors is correctly specified.\n"
     ]
    }
   ],
   "source": [
    "# Build model with one predictor (using statsmodels)\n",
    "model = smf.ols(formula = 'tip ~ total_bill', data = data)\n",
    "results = model.fit()\n",
    "print(results.summary())"
   ]
  },
  {
   "cell_type": "code",
   "execution_count": 8,
   "metadata": {},
   "outputs": [
    {
     "name": "stdout",
     "output_type": "stream",
     "text": [
      "                            OLS Regression Results                            \n",
      "==============================================================================\n",
      "Dep. Variable:                    tip   R-squared:                       0.468\n",
      "Model:                            OLS   Adj. R-squared:                  0.463\n",
      "Method:                 Least Squares   F-statistic:                     105.9\n",
      "Date:                Thu, 01 Oct 2020   Prob (F-statistic):           9.67e-34\n",
      "Time:                        12:40:54   Log-Likelihood:                -347.99\n",
      "No. Observations:                 244   AIC:                             702.0\n",
      "Df Residuals:                     241   BIC:                             712.5\n",
      "Df Model:                           2                                         \n",
      "Covariance Type:            nonrobust                                         \n",
      "==============================================================================\n",
      "                 coef    std err          t      P>|t|      [0.025      0.975]\n",
      "------------------------------------------------------------------------------\n",
      "Intercept      0.6689      0.194      3.455      0.001       0.288       1.050\n",
      "total_bill     0.0927      0.009     10.172      0.000       0.075       0.111\n",
      "size           0.1926      0.085      2.258      0.025       0.025       0.361\n",
      "==============================================================================\n",
      "Omnibus:                       24.753   Durbin-Watson:                   2.100\n",
      "Prob(Omnibus):                  0.000   Jarque-Bera (JB):               46.169\n",
      "Skew:                           0.545   Prob(JB):                     9.43e-11\n",
      "Kurtosis:                       4.831   Cond. No.                         67.6\n",
      "==============================================================================\n",
      "\n",
      "Notes:\n",
      "[1] Standard Errors assume that the covariance matrix of the errors is correctly specified.\n"
     ]
    }
   ],
   "source": [
    "# Build model with two predictors (using statsmodels)\n",
    "model = smf.ols(formula = 'tip ~ total_bill + size', data = data)\n",
    "results = model.fit()\n",
    "print(results.summary())"
   ]
  },
  {
   "cell_type": "code",
   "execution_count": 9,
   "metadata": {},
   "outputs": [
    {
     "name": "stdout",
     "output_type": "stream",
     "text": [
      "                            OLS Regression Results                            \n",
      "==============================================================================\n",
      "Dep. Variable:                    tip   R-squared:                       0.470\n",
      "Model:                            OLS   Adj. R-squared:                  0.452\n",
      "Method:                 Least Squares   F-statistic:                     26.06\n",
      "Date:                Thu, 01 Oct 2020   Prob (F-statistic):           1.20e-28\n",
      "Time:                        12:40:54   Log-Likelihood:                -347.48\n",
      "No. Observations:                 244   AIC:                             713.0\n",
      "Df Residuals:                     235   BIC:                             744.4\n",
      "Df Model:                           8                                         \n",
      "Covariance Type:            nonrobust                                         \n",
      "==================================================================================\n",
      "                     coef    std err          t      P>|t|      [0.025      0.975]\n",
      "----------------------------------------------------------------------------------\n",
      "Intercept          0.5908      0.256      2.310      0.022       0.087       1.095\n",
      "sex[T.Female]      0.0324      0.142      0.229      0.819      -0.247       0.311\n",
      "smoker[T.No]       0.0864      0.147      0.589      0.556      -0.202       0.375\n",
      "day[T.Fri]         0.1623      0.393      0.412      0.680      -0.613       0.937\n",
      "day[T.Sat]         0.0408      0.471      0.087      0.931      -0.886       0.968\n",
      "day[T.Sun]         0.1368      0.472      0.290      0.772      -0.793       1.066\n",
      "time[T.Dinner]    -0.0681      0.445     -0.153      0.878      -0.944       0.808\n",
      "total_bill         0.0945      0.010      9.841      0.000       0.076       0.113\n",
      "size               0.1760      0.090      1.966      0.051      -0.000       0.352\n",
      "==============================================================================\n",
      "Omnibus:                       27.860   Durbin-Watson:                   2.096\n",
      "Prob(Omnibus):                  0.000   Jarque-Bera (JB):               52.555\n",
      "Skew:                           0.607   Prob(JB):                     3.87e-12\n",
      "Kurtosis:                       4.923   Cond. No.                         281.\n",
      "==============================================================================\n",
      "\n",
      "Notes:\n",
      "[1] Standard Errors assume that the covariance matrix of the errors is correctly specified.\n"
     ]
    }
   ],
   "source": [
    "# Build model with all predictors (using statsmodels)\n",
    "model = smf.ols(formula = 'tip ~ total_bill + size + sex + smoker + day + time', data = data)\n",
    "results = model.fit()\n",
    "print(results.summary())"
   ]
  },
  {
   "cell_type": "code",
   "execution_count": 10,
   "metadata": {},
   "outputs": [
    {
     "name": "stdout",
     "output_type": "stream",
     "text": [
      "[0.10502452]\n",
      "0.9202696135546731\n"
     ]
    },
    {
     "data": {
      "text/plain": [
       "0.45661658635167657"
      ]
     },
     "execution_count": 10,
     "metadata": {},
     "output_type": "execute_result"
    }
   ],
   "source": [
    "# Build model with one predictor (using sklearn)\n",
    "model = linear_model.LinearRegression()\n",
    "predicted = model.fit(X = data['total_bill'].values.reshape(-1, 1), y = data['tip'])\n",
    "print(predicted.coef_)\n",
    "print(predicted.intercept_)\n",
    "model.score(X = data['total_bill'].values.reshape(-1, 1), y = data['tip']) # print R squared"
   ]
  },
  {
   "cell_type": "code",
   "execution_count": 11,
   "metadata": {},
   "outputs": [
    {
     "name": "stdout",
     "output_type": "stream",
     "text": [
      "[0.09271334 0.19259779]\n",
      "0.6689447408125031\n"
     ]
    },
    {
     "data": {
      "text/plain": [
       "0.46786930879612587"
      ]
     },
     "execution_count": 11,
     "metadata": {},
     "output_type": "execute_result"
    }
   ],
   "source": [
    "# Build model with two predictors (using sklearn)\n",
    "model = linear_model.LinearRegression()\n",
    "predicted = model.fit(X = data[['total_bill', 'size']], y = data['tip'])\n",
    "print(predicted.coef_)\n",
    "print(predicted.intercept_)\n",
    "model.score(X = data[['total_bill', 'size']], y = data['tip']) # print R squared"
   ]
  },
  {
   "cell_type": "code",
   "execution_count": 12,
   "metadata": {},
   "outputs": [
    {
     "name": "stdout",
     "output_type": "stream",
     "text": [
      "   total_bill  size  sex_Male  sex_Female  smoker_Yes  smoker_No  day_Thur  \\\n",
      "0       16.99     2         0           1           0          1         0   \n",
      "1       10.34     3         1           0           0          1         0   \n",
      "2       21.01     3         1           0           0          1         0   \n",
      "3       23.68     2         1           0           0          1         0   \n",
      "4       24.59     4         0           1           0          1         0   \n",
      "\n",
      "   day_Fri  day_Sat  day_Sun  time_Lunch  time_Dinner  \n",
      "0        0        0        1           0            1  \n",
      "1        0        0        1           0            1  \n",
      "2        0        0        1           0            1  \n",
      "3        0        0        1           0            1  \n",
      "4        0        0        1           0            1  \n"
     ]
    }
   ],
   "source": [
    "# Create dummy variables\n",
    "data_dummy = pd.get_dummies(data[['total_bill', 'size', 'sex', 'smoker', 'day', 'time']])\n",
    "print(data_dummy.head())"
   ]
  },
  {
   "cell_type": "code",
   "execution_count": 13,
   "metadata": {},
   "outputs": [
    {
     "name": "stdout",
     "output_type": "stream",
     "text": [
      "   total_bill  size  sex_Female  smoker_No  day_Fri  day_Sat  day_Sun  \\\n",
      "0       16.99     2           1          1        0        0        1   \n",
      "1       10.34     3           0          1        0        0        1   \n",
      "2       21.01     3           0          1        0        0        1   \n",
      "3       23.68     2           0          1        0        0        1   \n",
      "4       24.59     4           1          1        0        0        1   \n",
      "\n",
      "   time_Dinner  \n",
      "0            1  \n",
      "1            1  \n",
      "2            1  \n",
      "3            1  \n",
      "4            1  \n"
     ]
    }
   ],
   "source": [
    "# Create dummy variables and drop reference variable\n",
    "data_dummy = pd.get_dummies(data[['total_bill', 'size', 'sex', 'smoker', 'day', 'time']], drop_first = True)\n",
    "print(data_dummy.head())"
   ]
  },
  {
   "cell_type": "code",
   "execution_count": 14,
   "metadata": {},
   "outputs": [
    {
     "name": "stdout",
     "output_type": "stream",
     "text": [
      "[ 0.09448701  0.175992    0.03244094  0.08640832  0.1622592   0.04080082\n",
      "  0.13677854 -0.0681286 ]\n",
      "0.5908374259513769\n"
     ]
    },
    {
     "data": {
      "text/plain": [
       "0.47007812322060794"
      ]
     },
     "execution_count": 14,
     "metadata": {},
     "output_type": "execute_result"
    }
   ],
   "source": [
    "# Build model with all predictors (using sklearn)\n",
    "model = linear_model.LinearRegression()\n",
    "predicted = model.fit(X = data_dummy, y = data['tip'])\n",
    "print(predicted.coef_)\n",
    "print(predicted.intercept_)\n",
    "model.score(X = data_dummy, y = data['tip']) # print R squared"
   ]
  },
  {
   "cell_type": "markdown",
   "metadata": {},
   "source": [
    "**Question 01: What is the coefficient of determination of each model?**"
   ]
  },
  {
   "cell_type": "markdown",
   "metadata": {},
   "source": [
    "**Question 02: Which model has the best performance?**"
   ]
  },
  {
   "cell_type": "code",
   "execution_count": 15,
   "metadata": {
    "scrolled": true
   },
   "outputs": [
    {
     "name": "stdout",
     "output_type": "stream",
     "text": [
      "                            OLS Regression Results                            \n",
      "==============================================================================\n",
      "Dep. Variable:                    tip   R-squared:                       0.468\n",
      "Model:                            OLS   Adj. R-squared:                  0.462\n",
      "Method:                 Least Squares   F-statistic:                     70.51\n",
      "Date:                Thu, 01 Oct 2020   Prob (F-statistic):           9.82e-33\n",
      "Time:                        12:40:54   Log-Likelihood:                -347.84\n",
      "No. Observations:                 244   AIC:                             703.7\n",
      "Df Residuals:                     240   BIC:                             717.7\n",
      "Df Model:                           3                                         \n",
      "Covariance Type:            nonrobust                                         \n",
      "===================================================================================\n",
      "                      coef    std err          t      P>|t|      [0.025      0.975]\n",
      "-----------------------------------------------------------------------------------\n",
      "Intercept           0.9183      0.510      1.801      0.073      -0.086       1.923\n",
      "total_bill          0.0819      0.022      3.651      0.000       0.038       0.126\n",
      "size                0.0933      0.206      0.452      0.652      -0.313       0.500\n",
      "total_bill:size     0.0039      0.007      0.529      0.597      -0.011       0.019\n",
      "==============================================================================\n",
      "Omnibus:                       24.326   Durbin-Watson:                   2.105\n",
      "Prob(Omnibus):                  0.000   Jarque-Bera (JB):               44.356\n",
      "Skew:                           0.545   Prob(JB):                     2.33e-10\n",
      "Kurtosis:                       4.782   Cond. No.                         623.\n",
      "==============================================================================\n",
      "\n",
      "Notes:\n",
      "[1] Standard Errors assume that the covariance matrix of the errors is correctly specified.\n"
     ]
    }
   ],
   "source": [
    "# Build interaction model (using statsmodels)\n",
    "model = smf.ols(formula = 'tip ~ total_bill * size', data = data)\n",
    "results = model.fit()\n",
    "print(results.summary())"
   ]
  },
  {
   "cell_type": "code",
   "execution_count": 16,
   "metadata": {},
   "outputs": [
    {
     "name": "stdout",
     "output_type": "stream",
     "text": [
      "[0.08188122 0.09326945 0.00394066]\n",
      "0.9182714747192717\n"
     ]
    },
    {
     "data": {
      "text/plain": [
       "0.4684883881380395"
      ]
     },
     "execution_count": 16,
     "metadata": {},
     "output_type": "execute_result"
    }
   ],
   "source": [
    "# Build interaction model (using sklearn)\n",
    "data_interaction = pd.concat([data[['total_bill', 'size']], data['total_bill'] * data['size']], axis = 1)\n",
    "model = linear_model.LinearRegression()\n",
    "predicted = model.fit(X = data_interaction, y = data['tip'])\n",
    "print(predicted.coef_)\n",
    "print(predicted.intercept_)\n",
    "model.score(X = data_interaction, y = data['tip']) # print R squared"
   ]
  },
  {
   "cell_type": "code",
   "execution_count": 17,
   "metadata": {},
   "outputs": [
    {
     "name": "stdout",
     "output_type": "stream",
     "text": [
      "[ 0.09444287  0.17543019  0.03130795  0.08304953  0.1267268  -0.00076844\n",
      "  0.094863   -0.03026345]\n",
      "0.5989686672210013\n"
     ]
    },
    {
     "data": {
      "text/plain": [
       "0.4700566055867049"
      ]
     },
     "execution_count": 17,
     "metadata": {},
     "output_type": "execute_result"
    }
   ],
   "source": [
    "# Build ridge regression model (using sklearn)\n",
    "model = linear_model.Ridge(alpha = 1)\n",
    "predicted = model.fit(X = data_dummy, y = data['tip'])\n",
    "print(predicted.coef_)\n",
    "print(predicted.intercept_)\n",
    "model.score(X = data_dummy, y = data['tip']) # print R squared"
   ]
  },
  {
   "cell_type": "code",
   "execution_count": 18,
   "metadata": {},
   "outputs": [
    {
     "name": "stdout",
     "output_type": "stream",
     "text": [
      "[ 0.09235476  0.         -0.          0.         -0.         -0.\n",
      "  0.          0.        ]\n",
      "1.170952636829218\n"
     ]
    },
    {
     "data": {
      "text/plain": [
       "0.4499714078607421"
      ]
     },
     "execution_count": 18,
     "metadata": {},
     "output_type": "execute_result"
    }
   ],
   "source": [
    "# Build LASSO regression model (using sklearn)\n",
    "model = linear_model.Lasso(alpha = 1)\n",
    "predicted = model.fit(X = data_dummy, y = data['tip'])\n",
    "print(predicted.coef_)\n",
    "print(predicted.intercept_)\n",
    "model.score(X = data_dummy, y = data['tip']) # print R squared"
   ]
  },
  {
   "cell_type": "code",
   "execution_count": 19,
   "metadata": {},
   "outputs": [
    {
     "name": "stdout",
     "output_type": "stream",
     "text": [
      "[ 0.09806839  0.          0.          0.         -0.         -0.\n",
      "  0.          0.        ]\n",
      "1.057903165346604\n"
     ]
    },
    {
     "data": {
      "text/plain": [
       "0.454613473403629"
      ]
     },
     "execution_count": 19,
     "metadata": {},
     "output_type": "execute_result"
    }
   ],
   "source": [
    "# Build elastic net model (using sklearn)\n",
    "model = linear_model.ElasticNet(alpha = 1, l1_ratio = 0.5)\n",
    "predicted = model.fit(X = data_dummy, y = data['tip'])\n",
    "print(predicted.coef_)\n",
    "print(predicted.intercept_)\n",
    "model.score(X = data_dummy, y = data['tip']) # print R squared"
   ]
  }
 ],
 "metadata": {
  "kernelspec": {
   "display_name": "Python 3",
   "language": "python",
   "name": "python3"
  },
  "language_info": {
   "codemirror_mode": {
    "name": "ipython",
    "version": 3
   },
   "file_extension": ".py",
   "mimetype": "text/x-python",
   "name": "python",
   "nbconvert_exporter": "python",
   "pygments_lexer": "ipython3",
   "version": "3.8.5"
  }
 },
 "nbformat": 4,
 "nbformat_minor": 2
}
