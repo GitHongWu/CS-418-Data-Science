{
 "cells": [
  {
   "cell_type": "markdown",
   "metadata": {},
   "source": [
    "# Lecture 10 (c)\n",
    "In this example, we will train and test a **linear regression model** to predict tip amount from multiple predictor variables using the holdout method and cross-validation."
   ]
  },
  {
   "cell_type": "code",
   "execution_count": null,
   "metadata": {},
   "outputs": [],
   "source": [
    "# Load libraries\n",
    "import pandas as pd\n",
    "import matplotlib.pyplot as plt\n",
    "import seaborn as sns\n",
    "import statsmodels.formula.api as smf\n",
    "from sklearn import linear_model\n",
    "from sklearn.model_selection import train_test_split, KFold, cross_val_score"
   ]
  },
  {
   "cell_type": "code",
   "execution_count": null,
   "metadata": {},
   "outputs": [],
   "source": [
    "# Load dataset\n",
    "data = sns.load_dataset(\"tips\")\n",
    "data.head()"
   ]
  },
  {
   "cell_type": "code",
   "execution_count": null,
   "metadata": {},
   "outputs": [],
   "source": [
    "# Partition dataset into training, validation, and test sets using holdout method\n",
    "X_train, X_test, Y_train, Y_test = train_test_split(data[['total_bill', 'size', 'sex', 'smoker', 'day', 'time']], data['tip'], test_size = 0.2, random_state = 1)\n",
    "X_train, X_val, Y_train, Y_val = train_test_split(X_train, Y_train, test_size = 0.2, random_state = 1)"
   ]
  },
  {
   "cell_type": "code",
   "execution_count": null,
   "metadata": {},
   "outputs": [],
   "source": [
    "# Explore training set\n",
    "print(X_train.info())"
   ]
  },
  {
   "cell_type": "code",
   "execution_count": null,
   "metadata": {},
   "outputs": [],
   "source": [
    "# Explore validation set\n",
    "print(X_val.info())"
   ]
  },
  {
   "cell_type": "code",
   "execution_count": null,
   "metadata": {},
   "outputs": [],
   "source": [
    "# Explore test set\n",
    "print(X_test.info())"
   ]
  },
  {
   "cell_type": "code",
   "execution_count": null,
   "metadata": {},
   "outputs": [],
   "source": [
    "# Evaluate model with two predictors\n",
    "model = linear_model.LinearRegression().fit(X = X_train[['total_bill', 'size']], y = Y_train)\n",
    "score_train = model.score(X = X_train[['total_bill', 'size']], y = Y_train) # R squared (training)\n",
    "score_val = model.score(X = X_val[['total_bill', 'size']], y = Y_val) # R squared (validation)\n",
    "score_test = model.score(X = X_test[['total_bill', 'size']], y = Y_test) # R squared (test)\n",
    "print([score_train, score_val, score_test])"
   ]
  },
  {
   "cell_type": "code",
   "execution_count": null,
   "metadata": {},
   "outputs": [],
   "source": [
    "# Evaluate model with all predictors\n",
    "X_train_dummy = pd.get_dummies(X_train, drop_first = True)\n",
    "X_val_dummy = pd.get_dummies(X_val, drop_first = True)\n",
    "X_test_dummy = pd.get_dummies(X_test, drop_first = True)\n",
    "model = linear_model.LinearRegression().fit(X = X_train_dummy, y = Y_train)\n",
    "score_train = model.score(X = X_train_dummy, y = Y_train) # R squared (training)\n",
    "score_val = model.score(X = X_val_dummy, y = Y_val) # R squared (validation)\n",
    "score_test = model.score(X = X_test_dummy, y = Y_test) # R squared (test)\n",
    "print([score_train, score_val, score_test])"
   ]
  },
  {
   "cell_type": "code",
   "execution_count": null,
   "metadata": {},
   "outputs": [],
   "source": [
    "# Evaluate ridge regression model\n",
    "model = linear_model.Ridge(alpha = 1).fit(X = X_train_dummy, y = Y_train)\n",
    "print(model.coef_)\n",
    "print(model.intercept_)\n",
    "score_train = model.score(X = X_train_dummy, y = Y_train) # R squared (training)\n",
    "score_val = model.score(X = X_val_dummy, y = Y_val) # R squared (validation)\n",
    "score_test = model.score(X = X_test_dummy, y = Y_test) # R squared (test)\n",
    "print([score_train, score_val, score_test])"
   ]
  },
  {
   "cell_type": "code",
   "execution_count": null,
   "metadata": {},
   "outputs": [],
   "source": [
    "# Evaluate LASSO regression model\n",
    "model = linear_model.Lasso(alpha = 1).fit(X = X_train_dummy, y = Y_train)\n",
    "print(model.coef_)\n",
    "print(model.intercept_)\n",
    "score_train = model.score(X = X_train_dummy, y = Y_train) # R squared (training)\n",
    "score_val = model.score(X = X_val_dummy, y = Y_val) # R squared (validation)\n",
    "score_test = model.score(X = X_test_dummy, y = Y_test) # R squared (test)\n",
    "print([score_train, score_val, score_test])"
   ]
  },
  {
   "cell_type": "code",
   "execution_count": null,
   "metadata": {},
   "outputs": [],
   "source": [
    "# Evaluate elastic net model\n",
    "model = linear_model.ElasticNet(alpha = 1, l1_ratio = 0.5).fit(X = X_train_dummy, y = Y_train)\n",
    "print(model.coef_)\n",
    "print(model.intercept_)\n",
    "score_train = model.score(X = X_train_dummy, y = Y_train) # R squared (training)\n",
    "score_val = model.score(X = X_val_dummy, y = Y_val) # R squared (validation)\n",
    "score_test = model.score(X = X_test_dummy, y = Y_test) # R squared (test)\n",
    "print([score_train, score_val, score_test])"
   ]
  },
  {
   "cell_type": "code",
   "execution_count": null,
   "metadata": {},
   "outputs": [],
   "source": [
    "# Question 01: Using the holdout method, which model has the best performance?"
   ]
  },
  {
   "cell_type": "code",
   "execution_count": null,
   "metadata": {},
   "outputs": [],
   "source": [
    "# Partition dataset into training and test sets using 5-fold cross-validation\n",
    "folds = KFold(n_splits = 5, shuffle = False)\n",
    "for train_index, test_index in folds.split(data):\n",
    "    print([train_index.shape[0], test_index.shape[0]])"
   ]
  },
  {
   "cell_type": "code",
   "execution_count": null,
   "metadata": {},
   "outputs": [],
   "source": [
    "# Evaluate model with two predictors\n",
    "model = linear_model.LinearRegression()\n",
    "scores = cross_val_score(model, X = data[['total_bill', 'size']], y = data['tip'], cv = folds)\n",
    "print(scores)\n",
    "print([scores.mean(), scores.std()])"
   ]
  },
  {
   "cell_type": "code",
   "execution_count": null,
   "metadata": {},
   "outputs": [],
   "source": [
    "# Evaluate model with all predictors\n",
    "data_dummy = pd.get_dummies(data[['total_bill', 'size', 'sex', 'smoker', 'day', 'time']], drop_first = True)\n",
    "model = linear_model.LinearRegression()\n",
    "scores = cross_val_score(model, X = data_dummy, y = data['tip'], cv = folds)\n",
    "print(scores)\n",
    "print([scores.mean(), scores.std()])"
   ]
  },
  {
   "cell_type": "code",
   "execution_count": null,
   "metadata": {},
   "outputs": [],
   "source": [
    "# Evaluate ridge regression model\n",
    "model = linear_model.Ridge(alpha = 1)\n",
    "scores = cross_val_score(model, X = data_dummy, y = data['tip'], cv = folds)\n",
    "print(scores)\n",
    "print([scores.mean(), scores.std()])"
   ]
  },
  {
   "cell_type": "code",
   "execution_count": null,
   "metadata": {},
   "outputs": [],
   "source": [
    "# Evaluate LASSO regression model\n",
    "model = linear_model.Lasso(alpha = 1)\n",
    "scores = cross_val_score(model, X = data_dummy, y = data['tip'], cv = folds)\n",
    "print(scores)\n",
    "print([scores.mean(), scores.std()])"
   ]
  },
  {
   "cell_type": "code",
   "execution_count": null,
   "metadata": {},
   "outputs": [],
   "source": [
    "# Evaluate elastic net model\n",
    "model = linear_model.ElasticNet(alpha = 1, l1_ratio = 0.5)\n",
    "scores = cross_val_score(model, X = data_dummy, y = data['tip'], cv = folds)\n",
    "print(scores)\n",
    "print([scores.mean(), scores.std()])"
   ]
  },
  {
   "cell_type": "code",
   "execution_count": null,
   "metadata": {},
   "outputs": [],
   "source": [
    "# Question 02: Using the cross-validation method, which model has the best performance?"
   ]
  }
 ],
 "metadata": {
  "kernelspec": {
   "display_name": "Python 3",
   "language": "python",
   "name": "python3"
  },
  "language_info": {
   "codemirror_mode": {
    "name": "ipython",
    "version": 3
   },
   "file_extension": ".py",
   "mimetype": "text/x-python",
   "name": "python",
   "nbconvert_exporter": "python",
   "pygments_lexer": "ipython3",
   "version": "3.8.5"
  }
 },
 "nbformat": 4,
 "nbformat_minor": 2
}
